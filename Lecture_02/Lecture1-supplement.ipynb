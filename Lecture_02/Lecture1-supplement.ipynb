{
 "cells": [
  {
   "cell_type": "markdown",
   "id": "d0729f27",
   "metadata": {},
   "source": [
    "#### **Question 1**: How do we interpret histogram divisions (bins) in Data Wrangler?\n",
    "\n",
    "Consider the car dataset we looked at in class"
   ]
  },
  {
   "cell_type": "code",
   "execution_count": 1,
   "id": "e977b78d",
   "metadata": {},
   "outputs": [],
   "source": [
    "import pandas as pd\n",
    "\n",
    "carfeatures = pd.read_csv(\"data/features.csv\")"
   ]
  },
  {
   "cell_type": "markdown",
   "id": "3437d9a8",
   "metadata": {},
   "source": [
    "When we look at the \"mpg\" column in Data Wrangler and inspect the first two bins of the histogram (a \"bin\" is the interval corresponding to the count in each vertical bar), we see\n",
    "\n",
    "<img src=\"figures/mpg1_dw.png\" alt=\"drawing\" width=\"250\"/>\n",
    "<img src=\"figures/mpg2_dw.png\" alt=\"drawing\" width=\"250\"/>\n",
    "\n",
    "So if a car has exactly 10 mpg, which bin does it get placed in? This is ambiguous, and it could even be repeated and placed in both! (I really doubt the folks who made Data Wrangler would choose to allow data repetition though)\n",
    "\n",
    "I couldn't find much on Google about how the histogram bins are constructed, but we can deduce what's included in each bin by looking at the frequency table of mpg."
   ]
  },
  {
   "cell_type": "code",
   "execution_count": 2,
   "id": "b98b270d",
   "metadata": {},
   "outputs": [
    {
     "data": {
      "application/vnd.microsoft.datawrangler.viewer.v0+json": {
       "columns": [
        {
         "name": "mpg",
         "rawType": "float64",
         "type": "float"
        },
        {
         "name": "count",
         "rawType": "int64",
         "type": "integer"
        }
       ],
       "ref": "6fd31fac-04a7-4b6c-804b-e5c73ac375b9",
       "rows": [
        [
         "9.0",
         "1"
        ],
        [
         "10.0",
         "2"
        ],
        [
         "11.0",
         "4"
        ],
        [
         "12.0",
         "6"
        ],
        [
         "13.0",
         "20"
        ],
        [
         "14.0",
         "19"
        ],
        [
         "14.5",
         "1"
        ],
        [
         "15.0",
         "16"
        ],
        [
         "15.5",
         "5"
        ],
        [
         "16.0",
         "13"
        ],
        [
         "16.2",
         "1"
        ],
        [
         "16.5",
         "3"
        ],
        [
         "16.9",
         "1"
        ],
        [
         "17.0",
         "7"
        ],
        [
         "17.5",
         "5"
        ],
        [
         "17.6",
         "2"
        ],
        [
         "17.7",
         "1"
        ],
        [
         "18.0",
         "17"
        ],
        [
         "18.1",
         "2"
        ],
        [
         "18.2",
         "1"
        ],
        [
         "18.5",
         "3"
        ],
        [
         "18.6",
         "1"
        ],
        [
         "19.0",
         "12"
        ],
        [
         "19.1",
         "1"
        ],
        [
         "19.2",
         "3"
        ],
        [
         "19.4",
         "2"
        ],
        [
         "19.8",
         "1"
        ],
        [
         "19.9",
         "1"
        ],
        [
         "20.0",
         "9"
        ],
        [
         "20.2",
         "4"
        ],
        [
         "20.3",
         "1"
        ],
        [
         "20.5",
         "3"
        ],
        [
         "20.6",
         "2"
        ],
        [
         "20.8",
         "1"
        ],
        [
         "21.0",
         "8"
        ],
        [
         "21.1",
         "1"
        ],
        [
         "21.5",
         "3"
        ],
        [
         "21.6",
         "1"
        ],
        [
         "22.0",
         "10"
        ],
        [
         "22.3",
         "1"
        ],
        [
         "22.4",
         "1"
        ],
        [
         "22.5",
         "1"
        ],
        [
         "23.0",
         "10"
        ],
        [
         "23.2",
         "1"
        ],
        [
         "23.5",
         "1"
        ],
        [
         "23.6",
         "1"
        ],
        [
         "23.7",
         "1"
        ],
        [
         "23.8",
         "1"
        ],
        [
         "23.9",
         "2"
        ],
        [
         "24.0",
         "11"
        ]
       ],
       "shape": {
        "columns": 1,
        "rows": 129
       }
      },
      "text/html": [
       "<div>\n",
       "<style scoped>\n",
       "    .dataframe tbody tr th:only-of-type {\n",
       "        vertical-align: middle;\n",
       "    }\n",
       "\n",
       "    .dataframe tbody tr th {\n",
       "        vertical-align: top;\n",
       "    }\n",
       "\n",
       "    .dataframe thead th {\n",
       "        text-align: right;\n",
       "    }\n",
       "</style>\n",
       "<table border=\"1\" class=\"dataframe\">\n",
       "  <thead>\n",
       "    <tr style=\"text-align: right;\">\n",
       "      <th>col_0</th>\n",
       "      <th>count</th>\n",
       "    </tr>\n",
       "    <tr>\n",
       "      <th>mpg</th>\n",
       "      <th></th>\n",
       "    </tr>\n",
       "  </thead>\n",
       "  <tbody>\n",
       "    <tr>\n",
       "      <th>9.0</th>\n",
       "      <td>1</td>\n",
       "    </tr>\n",
       "    <tr>\n",
       "      <th>10.0</th>\n",
       "      <td>2</td>\n",
       "    </tr>\n",
       "    <tr>\n",
       "      <th>11.0</th>\n",
       "      <td>4</td>\n",
       "    </tr>\n",
       "    <tr>\n",
       "      <th>12.0</th>\n",
       "      <td>6</td>\n",
       "    </tr>\n",
       "    <tr>\n",
       "      <th>13.0</th>\n",
       "      <td>20</td>\n",
       "    </tr>\n",
       "    <tr>\n",
       "      <th>...</th>\n",
       "      <td>...</td>\n",
       "    </tr>\n",
       "    <tr>\n",
       "      <th>43.4</th>\n",
       "      <td>1</td>\n",
       "    </tr>\n",
       "    <tr>\n",
       "      <th>44.0</th>\n",
       "      <td>1</td>\n",
       "    </tr>\n",
       "    <tr>\n",
       "      <th>44.3</th>\n",
       "      <td>1</td>\n",
       "    </tr>\n",
       "    <tr>\n",
       "      <th>44.6</th>\n",
       "      <td>1</td>\n",
       "    </tr>\n",
       "    <tr>\n",
       "      <th>46.6</th>\n",
       "      <td>1</td>\n",
       "    </tr>\n",
       "  </tbody>\n",
       "</table>\n",
       "<p>129 rows × 1 columns</p>\n",
       "</div>"
      ],
      "text/plain": [
       "col_0  count\n",
       "mpg         \n",
       "9.0        1\n",
       "10.0       2\n",
       "11.0       4\n",
       "12.0       6\n",
       "13.0      20\n",
       "...      ...\n",
       "43.4       1\n",
       "44.0       1\n",
       "44.3       1\n",
       "44.6       1\n",
       "46.6       1\n",
       "\n",
       "[129 rows x 1 columns]"
      ]
     },
     "execution_count": 2,
     "metadata": {},
     "output_type": "execute_result"
    }
   ],
   "source": [
    "table = pd.crosstab(carfeatures['mpg'], \"count\")\n",
    "table"
   ]
  },
  {
   "cell_type": "markdown",
   "id": "b4b445ee",
   "metadata": {},
   "source": [
    "We see that there is:\n",
    "- 1 car with 9.0 mpg\n",
    "- 2 cars with 10.0 mpg\n",
    "- 4 cars with 11.0 mpg\n",
    "- 6 cars with 12.0 mpg\n",
    "\n",
    "The only way this could match with what we see in the histogram is if:\n",
    "- First bin (8-10) includes all cars with $8 < \\textrm{mpg} \\leq 10$\n",
    "- Second bin (10-12) includes all cars with $10 < \\textrm{mpg} \\leq 12$\n",
    "\n",
    "(You can also check the third bin marked \"12-14\" and compare it to the frequency table, and conclude that it includes all cars with $12 < \\textrm{mpg} \\leq 14$)\n",
    "\n",
    "So Data Wrangler must use histogram bins that are **right-inclusive** a.k.a **left-exclusive** (they include the right endpoint and exclude the left endpoint). This is actually the opposite of the usual convention, i.e. most histogram bins are right-exclusive/left-inclusive."
   ]
  },
  {
   "cell_type": "markdown",
   "id": "fcae29f6",
   "metadata": {},
   "source": [
    "#### **Question 2**: In Pandas crosstab, can we use multiple columns from a DataFrame (dataset)?\n",
    "\n",
    "In class, we used pandas.crosstab (but using the nickname \"pd\" for pandas) to create a frequency table:"
   ]
  },
  {
   "cell_type": "code",
   "execution_count": 3,
   "id": "90f50b97",
   "metadata": {},
   "outputs": [
    {
     "data": {
      "application/vnd.microsoft.datawrangler.viewer.v0+json": {
       "columns": [
        {
         "name": "cylinders",
         "rawType": "int64",
         "type": "integer"
        },
        {
         "name": "count",
         "rawType": "int64",
         "type": "integer"
        }
       ],
       "ref": "bc423c59-4dd0-4e5b-b2ef-1db3020215bf",
       "rows": [
        [
         "3",
         "4"
        ],
        [
         "4",
         "204"
        ],
        [
         "5",
         "3"
        ],
        [
         "6",
         "84"
        ],
        [
         "8",
         "103"
        ]
       ],
       "shape": {
        "columns": 1,
        "rows": 5
       }
      },
      "text/html": [
       "<div>\n",
       "<style scoped>\n",
       "    .dataframe tbody tr th:only-of-type {\n",
       "        vertical-align: middle;\n",
       "    }\n",
       "\n",
       "    .dataframe tbody tr th {\n",
       "        vertical-align: top;\n",
       "    }\n",
       "\n",
       "    .dataframe thead th {\n",
       "        text-align: right;\n",
       "    }\n",
       "</style>\n",
       "<table border=\"1\" class=\"dataframe\">\n",
       "  <thead>\n",
       "    <tr style=\"text-align: right;\">\n",
       "      <th>col_0</th>\n",
       "      <th>count</th>\n",
       "    </tr>\n",
       "    <tr>\n",
       "      <th>cylinders</th>\n",
       "      <th></th>\n",
       "    </tr>\n",
       "  </thead>\n",
       "  <tbody>\n",
       "    <tr>\n",
       "      <th>3</th>\n",
       "      <td>4</td>\n",
       "    </tr>\n",
       "    <tr>\n",
       "      <th>4</th>\n",
       "      <td>204</td>\n",
       "    </tr>\n",
       "    <tr>\n",
       "      <th>5</th>\n",
       "      <td>3</td>\n",
       "    </tr>\n",
       "    <tr>\n",
       "      <th>6</th>\n",
       "      <td>84</td>\n",
       "    </tr>\n",
       "    <tr>\n",
       "      <th>8</th>\n",
       "      <td>103</td>\n",
       "    </tr>\n",
       "  </tbody>\n",
       "</table>\n",
       "</div>"
      ],
      "text/plain": [
       "col_0      count\n",
       "cylinders       \n",
       "3              4\n",
       "4            204\n",
       "5              3\n",
       "6             84\n",
       "8            103"
      ]
     },
     "execution_count": 3,
     "metadata": {},
     "output_type": "execute_result"
    }
   ],
   "source": [
    "table = pd.crosstab(index = carfeatures['cylinders'],columns = \"count\")\n",
    "table"
   ]
  },
  {
   "cell_type": "markdown",
   "id": "4aecdfb7",
   "metadata": {},
   "source": [
    "And then used it to create a more general cross-tabulation (or contingency table):"
   ]
  },
  {
   "cell_type": "code",
   "execution_count": 4,
   "id": "edd7eaed",
   "metadata": {},
   "outputs": [
    {
     "data": {
      "application/vnd.microsoft.datawrangler.viewer.v0+json": {
       "columns": [
        {
         "name": "cylinders",
         "rawType": "int64",
         "type": "integer"
        },
        {
         "name": "9.0",
         "rawType": "int64",
         "type": "integer"
        },
        {
         "name": "10.0",
         "rawType": "int64",
         "type": "integer"
        },
        {
         "name": "11.0",
         "rawType": "int64",
         "type": "integer"
        },
        {
         "name": "12.0",
         "rawType": "int64",
         "type": "integer"
        },
        {
         "name": "13.0",
         "rawType": "int64",
         "type": "integer"
        },
        {
         "name": "14.0",
         "rawType": "int64",
         "type": "integer"
        },
        {
         "name": "14.5",
         "rawType": "int64",
         "type": "integer"
        },
        {
         "name": "15.0",
         "rawType": "int64",
         "type": "integer"
        },
        {
         "name": "15.5",
         "rawType": "int64",
         "type": "integer"
        },
        {
         "name": "16.0",
         "rawType": "int64",
         "type": "integer"
        },
        {
         "name": "16.2",
         "rawType": "int64",
         "type": "integer"
        },
        {
         "name": "16.5",
         "rawType": "int64",
         "type": "integer"
        },
        {
         "name": "16.9",
         "rawType": "int64",
         "type": "integer"
        },
        {
         "name": "17.0",
         "rawType": "int64",
         "type": "integer"
        },
        {
         "name": "17.5",
         "rawType": "int64",
         "type": "integer"
        },
        {
         "name": "17.6",
         "rawType": "int64",
         "type": "integer"
        },
        {
         "name": "17.7",
         "rawType": "int64",
         "type": "integer"
        },
        {
         "name": "18.0",
         "rawType": "int64",
         "type": "integer"
        },
        {
         "name": "18.1",
         "rawType": "int64",
         "type": "integer"
        },
        {
         "name": "18.2",
         "rawType": "int64",
         "type": "integer"
        },
        {
         "name": "18.5",
         "rawType": "int64",
         "type": "integer"
        },
        {
         "name": "18.6",
         "rawType": "int64",
         "type": "integer"
        },
        {
         "name": "19.0",
         "rawType": "int64",
         "type": "integer"
        },
        {
         "name": "19.1",
         "rawType": "int64",
         "type": "integer"
        },
        {
         "name": "19.2",
         "rawType": "int64",
         "type": "integer"
        },
        {
         "name": "19.4",
         "rawType": "int64",
         "type": "integer"
        },
        {
         "name": "19.8",
         "rawType": "int64",
         "type": "integer"
        },
        {
         "name": "19.9",
         "rawType": "int64",
         "type": "integer"
        },
        {
         "name": "20.0",
         "rawType": "int64",
         "type": "integer"
        },
        {
         "name": "20.2",
         "rawType": "int64",
         "type": "integer"
        },
        {
         "name": "20.3",
         "rawType": "int64",
         "type": "integer"
        },
        {
         "name": "20.5",
         "rawType": "int64",
         "type": "integer"
        },
        {
         "name": "20.6",
         "rawType": "int64",
         "type": "integer"
        },
        {
         "name": "20.8",
         "rawType": "int64",
         "type": "integer"
        },
        {
         "name": "21.0",
         "rawType": "int64",
         "type": "integer"
        },
        {
         "name": "21.1",
         "rawType": "int64",
         "type": "integer"
        },
        {
         "name": "21.5",
         "rawType": "int64",
         "type": "integer"
        },
        {
         "name": "21.6",
         "rawType": "int64",
         "type": "integer"
        },
        {
         "name": "22.0",
         "rawType": "int64",
         "type": "integer"
        },
        {
         "name": "22.3",
         "rawType": "int64",
         "type": "integer"
        },
        {
         "name": "22.4",
         "rawType": "int64",
         "type": "integer"
        },
        {
         "name": "22.5",
         "rawType": "int64",
         "type": "integer"
        },
        {
         "name": "23.0",
         "rawType": "int64",
         "type": "integer"
        },
        {
         "name": "23.2",
         "rawType": "int64",
         "type": "integer"
        },
        {
         "name": "23.5",
         "rawType": "int64",
         "type": "integer"
        },
        {
         "name": "23.6",
         "rawType": "int64",
         "type": "integer"
        },
        {
         "name": "23.7",
         "rawType": "int64",
         "type": "integer"
        },
        {
         "name": "23.8",
         "rawType": "int64",
         "type": "integer"
        },
        {
         "name": "23.9",
         "rawType": "int64",
         "type": "integer"
        },
        {
         "name": "24.0",
         "rawType": "int64",
         "type": "integer"
        },
        {
         "name": "24.2",
         "rawType": "int64",
         "type": "integer"
        },
        {
         "name": "24.3",
         "rawType": "int64",
         "type": "integer"
        },
        {
         "name": "24.5",
         "rawType": "int64",
         "type": "integer"
        },
        {
         "name": "25.0",
         "rawType": "int64",
         "type": "integer"
        },
        {
         "name": "25.1",
         "rawType": "int64",
         "type": "integer"
        },
        {
         "name": "25.4",
         "rawType": "int64",
         "type": "integer"
        },
        {
         "name": "25.5",
         "rawType": "int64",
         "type": "integer"
        },
        {
         "name": "25.8",
         "rawType": "int64",
         "type": "integer"
        },
        {
         "name": "26.0",
         "rawType": "int64",
         "type": "integer"
        },
        {
         "name": "26.4",
         "rawType": "int64",
         "type": "integer"
        },
        {
         "name": "26.5",
         "rawType": "int64",
         "type": "integer"
        },
        {
         "name": "26.6",
         "rawType": "int64",
         "type": "integer"
        },
        {
         "name": "26.8",
         "rawType": "int64",
         "type": "integer"
        },
        {
         "name": "27.0",
         "rawType": "int64",
         "type": "integer"
        },
        {
         "name": "27.2",
         "rawType": "int64",
         "type": "integer"
        },
        {
         "name": "27.4",
         "rawType": "int64",
         "type": "integer"
        },
        {
         "name": "27.5",
         "rawType": "int64",
         "type": "integer"
        },
        {
         "name": "27.9",
         "rawType": "int64",
         "type": "integer"
        },
        {
         "name": "28.0",
         "rawType": "int64",
         "type": "integer"
        },
        {
         "name": "28.1",
         "rawType": "int64",
         "type": "integer"
        },
        {
         "name": "28.4",
         "rawType": "int64",
         "type": "integer"
        },
        {
         "name": "28.8",
         "rawType": "int64",
         "type": "integer"
        },
        {
         "name": "29.0",
         "rawType": "int64",
         "type": "integer"
        },
        {
         "name": "29.5",
         "rawType": "int64",
         "type": "integer"
        },
        {
         "name": "29.8",
         "rawType": "int64",
         "type": "integer"
        },
        {
         "name": "29.9",
         "rawType": "int64",
         "type": "integer"
        },
        {
         "name": "30.0",
         "rawType": "int64",
         "type": "integer"
        },
        {
         "name": "30.5",
         "rawType": "int64",
         "type": "integer"
        },
        {
         "name": "30.7",
         "rawType": "int64",
         "type": "integer"
        },
        {
         "name": "30.9",
         "rawType": "int64",
         "type": "integer"
        },
        {
         "name": "31.0",
         "rawType": "int64",
         "type": "integer"
        },
        {
         "name": "31.3",
         "rawType": "int64",
         "type": "integer"
        },
        {
         "name": "31.5",
         "rawType": "int64",
         "type": "integer"
        },
        {
         "name": "31.6",
         "rawType": "int64",
         "type": "integer"
        },
        {
         "name": "31.8",
         "rawType": "int64",
         "type": "integer"
        },
        {
         "name": "31.9",
         "rawType": "int64",
         "type": "integer"
        },
        {
         "name": "32.0",
         "rawType": "int64",
         "type": "integer"
        },
        {
         "name": "32.1",
         "rawType": "int64",
         "type": "integer"
        },
        {
         "name": "32.2",
         "rawType": "int64",
         "type": "integer"
        },
        {
         "name": "32.3",
         "rawType": "int64",
         "type": "integer"
        },
        {
         "name": "32.4",
         "rawType": "int64",
         "type": "integer"
        },
        {
         "name": "32.7",
         "rawType": "int64",
         "type": "integer"
        },
        {
         "name": "32.8",
         "rawType": "int64",
         "type": "integer"
        },
        {
         "name": "32.9",
         "rawType": "int64",
         "type": "integer"
        },
        {
         "name": "33.0",
         "rawType": "int64",
         "type": "integer"
        },
        {
         "name": "33.5",
         "rawType": "int64",
         "type": "integer"
        },
        {
         "name": "33.7",
         "rawType": "int64",
         "type": "integer"
        },
        {
         "name": "33.8",
         "rawType": "int64",
         "type": "integer"
        },
        {
         "name": "34.0",
         "rawType": "int64",
         "type": "integer"
        },
        {
         "name": "34.1",
         "rawType": "int64",
         "type": "integer"
        },
        {
         "name": "34.2",
         "rawType": "int64",
         "type": "integer"
        },
        {
         "name": "34.3",
         "rawType": "int64",
         "type": "integer"
        },
        {
         "name": "34.4",
         "rawType": "int64",
         "type": "integer"
        },
        {
         "name": "34.5",
         "rawType": "int64",
         "type": "integer"
        },
        {
         "name": "34.7",
         "rawType": "int64",
         "type": "integer"
        },
        {
         "name": "35.0",
         "rawType": "int64",
         "type": "integer"
        },
        {
         "name": "35.1",
         "rawType": "int64",
         "type": "integer"
        },
        {
         "name": "35.7",
         "rawType": "int64",
         "type": "integer"
        },
        {
         "name": "36.0",
         "rawType": "int64",
         "type": "integer"
        },
        {
         "name": "36.1",
         "rawType": "int64",
         "type": "integer"
        },
        {
         "name": "36.4",
         "rawType": "int64",
         "type": "integer"
        },
        {
         "name": "37.0",
         "rawType": "int64",
         "type": "integer"
        },
        {
         "name": "37.2",
         "rawType": "int64",
         "type": "integer"
        },
        {
         "name": "37.3",
         "rawType": "int64",
         "type": "integer"
        },
        {
         "name": "37.7",
         "rawType": "int64",
         "type": "integer"
        },
        {
         "name": "38.0",
         "rawType": "int64",
         "type": "integer"
        },
        {
         "name": "38.1",
         "rawType": "int64",
         "type": "integer"
        },
        {
         "name": "39.0",
         "rawType": "int64",
         "type": "integer"
        },
        {
         "name": "39.1",
         "rawType": "int64",
         "type": "integer"
        },
        {
         "name": "39.4",
         "rawType": "int64",
         "type": "integer"
        },
        {
         "name": "40.8",
         "rawType": "int64",
         "type": "integer"
        },
        {
         "name": "40.9",
         "rawType": "int64",
         "type": "integer"
        },
        {
         "name": "41.5",
         "rawType": "int64",
         "type": "integer"
        },
        {
         "name": "43.1",
         "rawType": "int64",
         "type": "integer"
        },
        {
         "name": "43.4",
         "rawType": "int64",
         "type": "integer"
        },
        {
         "name": "44.0",
         "rawType": "int64",
         "type": "integer"
        },
        {
         "name": "44.3",
         "rawType": "int64",
         "type": "integer"
        },
        {
         "name": "44.6",
         "rawType": "int64",
         "type": "integer"
        },
        {
         "name": "46.6",
         "rawType": "int64",
         "type": "integer"
        }
       ],
       "ref": "574d8de0-86b4-4e67-be34-8e4f157fbbcd",
       "rows": [
        [
         "3",
         "0",
         "0",
         "0",
         "0",
         "0",
         "0",
         "0",
         "0",
         "0",
         "0",
         "0",
         "0",
         "0",
         "0",
         "0",
         "0",
         "0",
         "1",
         "0",
         "0",
         "0",
         "0",
         "1",
         "0",
         "0",
         "0",
         "0",
         "0",
         "0",
         "0",
         "0",
         "0",
         "0",
         "0",
         "0",
         "0",
         "1",
         "0",
         "0",
         "0",
         "0",
         "0",
         "0",
         "0",
         "0",
         "0",
         "1",
         "0",
         "0",
         "0",
         "0",
         "0",
         "0",
         "0",
         "0",
         "0",
         "0",
         "0",
         "0",
         "0",
         "0",
         "0",
         "0",
         "0",
         "0",
         "0",
         "0",
         "0",
         "0",
         "0",
         "0",
         "0",
         "0",
         "0",
         "0",
         "0",
         "0",
         "0",
         "0",
         "0",
         "0",
         "0",
         "0",
         "0",
         "0",
         "0",
         "0",
         "0",
         "0",
         "0",
         "0",
         "0",
         "0",
         "0",
         "0",
         "0",
         "0",
         "0",
         "0",
         "0",
         "0",
         "0",
         "0",
         "0",
         "0",
         "0",
         "0",
         "0",
         "0",
         "0",
         "0",
         "0",
         "0",
         "0",
         "0",
         "0",
         "0",
         "0",
         "0",
         "0",
         "0",
         "0",
         "0",
         "0",
         "0",
         "0",
         "0",
         "0",
         "0"
        ],
        [
         "4",
         "0",
         "0",
         "0",
         "0",
         "0",
         "0",
         "0",
         "0",
         "0",
         "0",
         "0",
         "0",
         "0",
         "0",
         "0",
         "0",
         "0",
         "1",
         "0",
         "0",
         "0",
         "0",
         "3",
         "0",
         "0",
         "0",
         "0",
         "0",
         "4",
         "0",
         "0",
         "0",
         "0",
         "0",
         "3",
         "1",
         "1",
         "1",
         "5",
         "1",
         "0",
         "0",
         "8",
         "1",
         "0",
         "1",
         "0",
         "1",
         "1",
         "10",
         "0",
         "1",
         "2",
         "10",
         "1",
         "0",
         "2",
         "1",
         "14",
         "1",
         "1",
         "1",
         "0",
         "9",
         "3",
         "1",
         "1",
         "1",
         "10",
         "1",
         "1",
         "0",
         "8",
         "2",
         "2",
         "1",
         "7",
         "2",
         "0",
         "1",
         "7",
         "1",
         "2",
         "1",
         "1",
         "1",
         "6",
         "1",
         "1",
         "1",
         "2",
         "0",
         "1",
         "1",
         "3",
         "3",
         "1",
         "1",
         "2",
         "2",
         "1",
         "1",
         "1",
         "2",
         "1",
         "2",
         "1",
         "1",
         "6",
         "2",
         "0",
         "3",
         "1",
         "1",
         "1",
         "3",
         "1",
         "1",
         "1",
         "1",
         "1",
         "1",
         "1",
         "1",
         "1",
         "1",
         "1",
         "1",
         "1"
        ],
        [
         "5",
         "0",
         "0",
         "0",
         "0",
         "0",
         "0",
         "0",
         "0",
         "0",
         "0",
         "0",
         "0",
         "0",
         "0",
         "0",
         "0",
         "0",
         "0",
         "0",
         "0",
         "0",
         "0",
         "0",
         "0",
         "0",
         "0",
         "0",
         "0",
         "0",
         "0",
         "1",
         "0",
         "0",
         "0",
         "0",
         "0",
         "0",
         "0",
         "0",
         "0",
         "0",
         "0",
         "0",
         "0",
         "0",
         "0",
         "0",
         "0",
         "0",
         "0",
         "0",
         "0",
         "0",
         "0",
         "0",
         "1",
         "0",
         "0",
         "0",
         "0",
         "0",
         "0",
         "0",
         "0",
         "0",
         "0",
         "0",
         "0",
         "0",
         "0",
         "0",
         "0",
         "0",
         "0",
         "0",
         "0",
         "0",
         "0",
         "0",
         "0",
         "0",
         "0",
         "0",
         "0",
         "0",
         "0",
         "0",
         "0",
         "0",
         "0",
         "0",
         "0",
         "0",
         "0",
         "0",
         "0",
         "0",
         "0",
         "0",
         "0",
         "0",
         "0",
         "0",
         "0",
         "0",
         "0",
         "0",
         "0",
         "0",
         "0",
         "1",
         "0",
         "0",
         "0",
         "0",
         "0",
         "0",
         "0",
         "0",
         "0",
         "0",
         "0",
         "0",
         "0",
         "0",
         "0",
         "0",
         "0",
         "0"
        ],
        [
         "6",
         "0",
         "0",
         "0",
         "0",
         "0",
         "0",
         "0",
         "4",
         "0",
         "5",
         "1",
         "1",
         "0",
         "3",
         "2",
         "1",
         "1",
         "13",
         "1",
         "0",
         "2",
         "1",
         "8",
         "1",
         "1",
         "1",
         "1",
         "0",
         "4",
         "3",
         "0",
         "3",
         "2",
         "1",
         "5",
         "0",
         "1",
         "0",
         "5",
         "0",
         "1",
         "1",
         "1",
         "0",
         "1",
         "0",
         "0",
         "0",
         "0",
         "1",
         "1",
         "0",
         "0",
         "1",
         "0",
         "1",
         "0",
         "0",
         "0",
         "0",
         "0",
         "0",
         "1",
         "0",
         "0",
         "0",
         "0",
         "0",
         "0",
         "0",
         "0",
         "1",
         "0",
         "0",
         "0",
         "0",
         "0",
         "0",
         "1",
         "0",
         "0",
         "0",
         "0",
         "0",
         "0",
         "0",
         "0",
         "0",
         "0",
         "0",
         "0",
         "1",
         "0",
         "0",
         "0",
         "0",
         "0",
         "0",
         "0",
         "0",
         "0",
         "0",
         "0",
         "0",
         "0",
         "0",
         "0",
         "0",
         "0",
         "0",
         "0",
         "0",
         "0",
         "0",
         "0",
         "1",
         "0",
         "0",
         "0",
         "0",
         "0",
         "0",
         "0",
         "0",
         "0",
         "0",
         "0",
         "0",
         "0"
        ],
        [
         "8",
         "1",
         "2",
         "4",
         "6",
         "20",
         "19",
         "1",
         "12",
         "5",
         "8",
         "0",
         "2",
         "1",
         "4",
         "3",
         "1",
         "0",
         "2",
         "1",
         "1",
         "1",
         "0",
         "0",
         "0",
         "2",
         "1",
         "0",
         "1",
         "1",
         "1",
         "0",
         "0",
         "0",
         "0",
         "0",
         "0",
         "0",
         "0",
         "0",
         "0",
         "0",
         "0",
         "1",
         "0",
         "0",
         "0",
         "0",
         "0",
         "1",
         "0",
         "0",
         "0",
         "0",
         "0",
         "0",
         "0",
         "0",
         "0",
         "0",
         "0",
         "0",
         "1",
         "0",
         "0",
         "0",
         "0",
         "0",
         "0",
         "0",
         "0",
         "0",
         "0",
         "0",
         "0",
         "0",
         "0",
         "0",
         "0",
         "0",
         "0",
         "0",
         "0",
         "0",
         "0",
         "0",
         "0",
         "0",
         "0",
         "0",
         "0",
         "0",
         "0",
         "0",
         "0",
         "0",
         "0",
         "0",
         "0",
         "0",
         "0",
         "0",
         "0",
         "0",
         "0",
         "0",
         "0",
         "0",
         "0",
         "0",
         "0",
         "0",
         "0",
         "0",
         "0",
         "0",
         "0",
         "0",
         "0",
         "0",
         "0",
         "0",
         "0",
         "0",
         "0",
         "0",
         "0",
         "0",
         "0",
         "0"
        ]
       ],
       "shape": {
        "columns": 129,
        "rows": 5
       }
      },
      "text/html": [
       "<div>\n",
       "<style scoped>\n",
       "    .dataframe tbody tr th:only-of-type {\n",
       "        vertical-align: middle;\n",
       "    }\n",
       "\n",
       "    .dataframe tbody tr th {\n",
       "        vertical-align: top;\n",
       "    }\n",
       "\n",
       "    .dataframe thead th {\n",
       "        text-align: right;\n",
       "    }\n",
       "</style>\n",
       "<table border=\"1\" class=\"dataframe\">\n",
       "  <thead>\n",
       "    <tr style=\"text-align: right;\">\n",
       "      <th>mpg</th>\n",
       "      <th>9.0</th>\n",
       "      <th>10.0</th>\n",
       "      <th>11.0</th>\n",
       "      <th>12.0</th>\n",
       "      <th>13.0</th>\n",
       "      <th>14.0</th>\n",
       "      <th>14.5</th>\n",
       "      <th>15.0</th>\n",
       "      <th>15.5</th>\n",
       "      <th>16.0</th>\n",
       "      <th>...</th>\n",
       "      <th>39.4</th>\n",
       "      <th>40.8</th>\n",
       "      <th>40.9</th>\n",
       "      <th>41.5</th>\n",
       "      <th>43.1</th>\n",
       "      <th>43.4</th>\n",
       "      <th>44.0</th>\n",
       "      <th>44.3</th>\n",
       "      <th>44.6</th>\n",
       "      <th>46.6</th>\n",
       "    </tr>\n",
       "    <tr>\n",
       "      <th>cylinders</th>\n",
       "      <th></th>\n",
       "      <th></th>\n",
       "      <th></th>\n",
       "      <th></th>\n",
       "      <th></th>\n",
       "      <th></th>\n",
       "      <th></th>\n",
       "      <th></th>\n",
       "      <th></th>\n",
       "      <th></th>\n",
       "      <th></th>\n",
       "      <th></th>\n",
       "      <th></th>\n",
       "      <th></th>\n",
       "      <th></th>\n",
       "      <th></th>\n",
       "      <th></th>\n",
       "      <th></th>\n",
       "      <th></th>\n",
       "      <th></th>\n",
       "      <th></th>\n",
       "    </tr>\n",
       "  </thead>\n",
       "  <tbody>\n",
       "    <tr>\n",
       "      <th>3</th>\n",
       "      <td>0</td>\n",
       "      <td>0</td>\n",
       "      <td>0</td>\n",
       "      <td>0</td>\n",
       "      <td>0</td>\n",
       "      <td>0</td>\n",
       "      <td>0</td>\n",
       "      <td>0</td>\n",
       "      <td>0</td>\n",
       "      <td>0</td>\n",
       "      <td>...</td>\n",
       "      <td>0</td>\n",
       "      <td>0</td>\n",
       "      <td>0</td>\n",
       "      <td>0</td>\n",
       "      <td>0</td>\n",
       "      <td>0</td>\n",
       "      <td>0</td>\n",
       "      <td>0</td>\n",
       "      <td>0</td>\n",
       "      <td>0</td>\n",
       "    </tr>\n",
       "    <tr>\n",
       "      <th>4</th>\n",
       "      <td>0</td>\n",
       "      <td>0</td>\n",
       "      <td>0</td>\n",
       "      <td>0</td>\n",
       "      <td>0</td>\n",
       "      <td>0</td>\n",
       "      <td>0</td>\n",
       "      <td>0</td>\n",
       "      <td>0</td>\n",
       "      <td>0</td>\n",
       "      <td>...</td>\n",
       "      <td>1</td>\n",
       "      <td>1</td>\n",
       "      <td>1</td>\n",
       "      <td>1</td>\n",
       "      <td>1</td>\n",
       "      <td>1</td>\n",
       "      <td>1</td>\n",
       "      <td>1</td>\n",
       "      <td>1</td>\n",
       "      <td>1</td>\n",
       "    </tr>\n",
       "    <tr>\n",
       "      <th>5</th>\n",
       "      <td>0</td>\n",
       "      <td>0</td>\n",
       "      <td>0</td>\n",
       "      <td>0</td>\n",
       "      <td>0</td>\n",
       "      <td>0</td>\n",
       "      <td>0</td>\n",
       "      <td>0</td>\n",
       "      <td>0</td>\n",
       "      <td>0</td>\n",
       "      <td>...</td>\n",
       "      <td>0</td>\n",
       "      <td>0</td>\n",
       "      <td>0</td>\n",
       "      <td>0</td>\n",
       "      <td>0</td>\n",
       "      <td>0</td>\n",
       "      <td>0</td>\n",
       "      <td>0</td>\n",
       "      <td>0</td>\n",
       "      <td>0</td>\n",
       "    </tr>\n",
       "    <tr>\n",
       "      <th>6</th>\n",
       "      <td>0</td>\n",
       "      <td>0</td>\n",
       "      <td>0</td>\n",
       "      <td>0</td>\n",
       "      <td>0</td>\n",
       "      <td>0</td>\n",
       "      <td>0</td>\n",
       "      <td>4</td>\n",
       "      <td>0</td>\n",
       "      <td>5</td>\n",
       "      <td>...</td>\n",
       "      <td>0</td>\n",
       "      <td>0</td>\n",
       "      <td>0</td>\n",
       "      <td>0</td>\n",
       "      <td>0</td>\n",
       "      <td>0</td>\n",
       "      <td>0</td>\n",
       "      <td>0</td>\n",
       "      <td>0</td>\n",
       "      <td>0</td>\n",
       "    </tr>\n",
       "    <tr>\n",
       "      <th>8</th>\n",
       "      <td>1</td>\n",
       "      <td>2</td>\n",
       "      <td>4</td>\n",
       "      <td>6</td>\n",
       "      <td>20</td>\n",
       "      <td>19</td>\n",
       "      <td>1</td>\n",
       "      <td>12</td>\n",
       "      <td>5</td>\n",
       "      <td>8</td>\n",
       "      <td>...</td>\n",
       "      <td>0</td>\n",
       "      <td>0</td>\n",
       "      <td>0</td>\n",
       "      <td>0</td>\n",
       "      <td>0</td>\n",
       "      <td>0</td>\n",
       "      <td>0</td>\n",
       "      <td>0</td>\n",
       "      <td>0</td>\n",
       "      <td>0</td>\n",
       "    </tr>\n",
       "  </tbody>\n",
       "</table>\n",
       "<p>5 rows × 129 columns</p>\n",
       "</div>"
      ],
      "text/plain": [
       "mpg        9.0   10.0  11.0  12.0  13.0  14.0  14.5  15.0  15.5  16.0  ...  \\\n",
       "cylinders                                                              ...   \n",
       "3             0     0     0     0     0     0     0     0     0     0  ...   \n",
       "4             0     0     0     0     0     0     0     0     0     0  ...   \n",
       "5             0     0     0     0     0     0     0     0     0     0  ...   \n",
       "6             0     0     0     0     0     0     0     4     0     5  ...   \n",
       "8             1     2     4     6    20    19     1    12     5     8  ...   \n",
       "\n",
       "mpg        39.4  40.8  40.9  41.5  43.1  43.4  44.0  44.3  44.6  46.6  \n",
       "cylinders                                                              \n",
       "3             0     0     0     0     0     0     0     0     0     0  \n",
       "4             1     1     1     1     1     1     1     1     1     1  \n",
       "5             0     0     0     0     0     0     0     0     0     0  \n",
       "6             0     0     0     0     0     0     0     0     0     0  \n",
       "8             0     0     0     0     0     0     0     0     0     0  \n",
       "\n",
       "[5 rows x 129 columns]"
      ]
     },
     "execution_count": 4,
     "metadata": {},
     "output_type": "execute_result"
    }
   ],
   "source": [
    "table_2 = pd.crosstab(index = carfeatures['cylinders'],columns = carfeatures['mpg'])\n",
    "table_2"
   ]
  },
  {
   "cell_type": "markdown",
   "id": "063d39f7",
   "metadata": {},
   "source": [
    "In light of the examples I gave on the board, a student naturally asked whether/how we could include multiple columns from the dataset in the cross-tabulation (for example, have the columns include both \"mpg\" and \"acceleration\").\n",
    "\n",
    "We'll look at a smaller dataset instead to demonstrate how to do this. We'll load in a fake dataset containing student data from the two sections of QTM 151."
   ]
  },
  {
   "cell_type": "code",
   "execution_count": 5,
   "id": "cf93f931",
   "metadata": {},
   "outputs": [],
   "source": [
    "fake_qtm_data = pd.read_csv(\"data/fake_QTM_151_data.csv\")"
   ]
  },
  {
   "cell_type": "markdown",
   "id": "d63a549f",
   "metadata": {},
   "source": [
    "You can inspect the dataset using DataWrangler.\n",
    "\n",
    "We'll make a cross-tabulation of the data of Section vs. Grade Level:"
   ]
  },
  {
   "cell_type": "code",
   "execution_count": 6,
   "id": "23a175ba",
   "metadata": {},
   "outputs": [
    {
     "data": {
      "application/vnd.microsoft.datawrangler.viewer.v0+json": {
       "columns": [
        {
         "name": "Section",
         "rawType": "object",
         "type": "string"
        },
        {
         "name": "1. (freshman)",
         "rawType": "int64",
         "type": "integer"
        },
        {
         "name": "2. (sophomore)",
         "rawType": "int64",
         "type": "integer"
        },
        {
         "name": "3. (junior)",
         "rawType": "int64",
         "type": "integer"
        },
        {
         "name": "4. (senior)",
         "rawType": "int64",
         "type": "integer"
        }
       ],
       "ref": "3c883ced-f6af-46ab-8037-568f004d56d7",
       "rows": [
        [
         "Sec. 1",
         "4",
         "4",
         "2",
         "3"
        ],
        [
         "Sec. 2",
         "6",
         "8",
         "3",
         "8"
        ]
       ],
       "shape": {
        "columns": 4,
        "rows": 2
       }
      },
      "text/html": [
       "<div>\n",
       "<style scoped>\n",
       "    .dataframe tbody tr th:only-of-type {\n",
       "        vertical-align: middle;\n",
       "    }\n",
       "\n",
       "    .dataframe tbody tr th {\n",
       "        vertical-align: top;\n",
       "    }\n",
       "\n",
       "    .dataframe thead th {\n",
       "        text-align: right;\n",
       "    }\n",
       "</style>\n",
       "<table border=\"1\" class=\"dataframe\">\n",
       "  <thead>\n",
       "    <tr style=\"text-align: right;\">\n",
       "      <th>Grade Level</th>\n",
       "      <th>1. (freshman)</th>\n",
       "      <th>2. (sophomore)</th>\n",
       "      <th>3. (junior)</th>\n",
       "      <th>4. (senior)</th>\n",
       "    </tr>\n",
       "    <tr>\n",
       "      <th>Section</th>\n",
       "      <th></th>\n",
       "      <th></th>\n",
       "      <th></th>\n",
       "      <th></th>\n",
       "    </tr>\n",
       "  </thead>\n",
       "  <tbody>\n",
       "    <tr>\n",
       "      <th>Sec. 1</th>\n",
       "      <td>4</td>\n",
       "      <td>4</td>\n",
       "      <td>2</td>\n",
       "      <td>3</td>\n",
       "    </tr>\n",
       "    <tr>\n",
       "      <th>Sec. 2</th>\n",
       "      <td>6</td>\n",
       "      <td>8</td>\n",
       "      <td>3</td>\n",
       "      <td>8</td>\n",
       "    </tr>\n",
       "  </tbody>\n",
       "</table>\n",
       "</div>"
      ],
      "text/plain": [
       "Grade Level  1. (freshman)  2. (sophomore)  3. (junior)  4. (senior)\n",
       "Section                                                             \n",
       "Sec. 1                   4               4            2            3\n",
       "Sec. 2                   6               8            3            8"
      ]
     },
     "execution_count": 6,
     "metadata": {},
     "output_type": "execute_result"
    }
   ],
   "source": [
    "tbl_grade = pd.crosstab(index = fake_qtm_data[\"Section\"], columns = fake_qtm_data[\"Grade Level\"])\n",
    "tbl_grade"
   ]
  },
  {
   "cell_type": "markdown",
   "id": "9c739ab7",
   "metadata": {},
   "source": [
    "And we'll make a cross-tabulation of the data of Section vs. Major:"
   ]
  },
  {
   "cell_type": "code",
   "execution_count": 7,
   "id": "5f914fe2",
   "metadata": {},
   "outputs": [
    {
     "data": {
      "application/vnd.microsoft.datawrangler.viewer.v0+json": {
       "columns": [
        {
         "name": "Section",
         "rawType": "object",
         "type": "string"
        },
        {
         "name": "bus. adm.",
         "rawType": "int64",
         "type": "integer"
        },
        {
         "name": "data.sci",
         "rawType": "int64",
         "type": "integer"
        },
        {
         "name": "math",
         "rawType": "int64",
         "type": "integer"
        },
        {
         "name": "neuroscience",
         "rawType": "int64",
         "type": "integer"
        },
        {
         "name": "undeclared",
         "rawType": "int64",
         "type": "integer"
        }
       ],
       "ref": "94bafbcc-037d-469e-9a4f-291d38b47482",
       "rows": [
        [
         "Sec. 1",
         "1",
         "4",
         "3",
         "2",
         "3"
        ],
        [
         "Sec. 2",
         "6",
         "4",
         "4",
         "5",
         "6"
        ]
       ],
       "shape": {
        "columns": 5,
        "rows": 2
       }
      },
      "text/html": [
       "<div>\n",
       "<style scoped>\n",
       "    .dataframe tbody tr th:only-of-type {\n",
       "        vertical-align: middle;\n",
       "    }\n",
       "\n",
       "    .dataframe tbody tr th {\n",
       "        vertical-align: top;\n",
       "    }\n",
       "\n",
       "    .dataframe thead th {\n",
       "        text-align: right;\n",
       "    }\n",
       "</style>\n",
       "<table border=\"1\" class=\"dataframe\">\n",
       "  <thead>\n",
       "    <tr style=\"text-align: right;\">\n",
       "      <th>Major</th>\n",
       "      <th>bus. adm.</th>\n",
       "      <th>data.sci</th>\n",
       "      <th>math</th>\n",
       "      <th>neuroscience</th>\n",
       "      <th>undeclared</th>\n",
       "    </tr>\n",
       "    <tr>\n",
       "      <th>Section</th>\n",
       "      <th></th>\n",
       "      <th></th>\n",
       "      <th></th>\n",
       "      <th></th>\n",
       "      <th></th>\n",
       "    </tr>\n",
       "  </thead>\n",
       "  <tbody>\n",
       "    <tr>\n",
       "      <th>Sec. 1</th>\n",
       "      <td>1</td>\n",
       "      <td>4</td>\n",
       "      <td>3</td>\n",
       "      <td>2</td>\n",
       "      <td>3</td>\n",
       "    </tr>\n",
       "    <tr>\n",
       "      <th>Sec. 2</th>\n",
       "      <td>6</td>\n",
       "      <td>4</td>\n",
       "      <td>4</td>\n",
       "      <td>5</td>\n",
       "      <td>6</td>\n",
       "    </tr>\n",
       "  </tbody>\n",
       "</table>\n",
       "</div>"
      ],
      "text/plain": [
       "Major    bus. adm.  data.sci  math  neuroscience  undeclared\n",
       "Section                                                     \n",
       "Sec. 1           1         4     3             2           3\n",
       "Sec. 2           6         4     4             5           6"
      ]
     },
     "execution_count": 7,
     "metadata": {},
     "output_type": "execute_result"
    }
   ],
   "source": [
    "tbl_major = pd.crosstab(index = fake_qtm_data[\"Section\"], columns = fake_qtm_data[\"Major\"])\n",
    "tbl_major"
   ]
  },
  {
   "cell_type": "markdown",
   "id": "f7b09af8",
   "metadata": {},
   "source": [
    "Now, we **can** use both Grade Level and Major as columns in the cross-tabulation, but they way they are arranged is a little bit different than what I wrote on the board:"
   ]
  },
  {
   "cell_type": "code",
   "execution_count": 8,
   "id": "4da09bcc",
   "metadata": {},
   "outputs": [
    {
     "data": {
      "application/vnd.microsoft.datawrangler.viewer.v0+json": {
       "columns": [
        {
         "name": "Section",
         "rawType": "object",
         "type": "string"
        },
        {
         "name": "('bus. adm.', '1. (freshman)')",
         "rawType": "int64",
         "type": "integer"
        },
        {
         "name": "('bus. adm.', '2. (sophomore)')",
         "rawType": "int64",
         "type": "integer"
        },
        {
         "name": "('bus. adm.', '3. (junior)')",
         "rawType": "int64",
         "type": "integer"
        },
        {
         "name": "('bus. adm.', '4. (senior)')",
         "rawType": "int64",
         "type": "integer"
        },
        {
         "name": "('data.sci', '1. (freshman)')",
         "rawType": "int64",
         "type": "integer"
        },
        {
         "name": "('data.sci', '2. (sophomore)')",
         "rawType": "int64",
         "type": "integer"
        },
        {
         "name": "('data.sci', '3. (junior)')",
         "rawType": "int64",
         "type": "integer"
        },
        {
         "name": "('data.sci', '4. (senior)')",
         "rawType": "int64",
         "type": "integer"
        },
        {
         "name": "('math', '2. (sophomore)')",
         "rawType": "int64",
         "type": "integer"
        },
        {
         "name": "('math', '3. (junior)')",
         "rawType": "int64",
         "type": "integer"
        },
        {
         "name": "('math', '4. (senior)')",
         "rawType": "int64",
         "type": "integer"
        },
        {
         "name": "('neuroscience', '1. (freshman)')",
         "rawType": "int64",
         "type": "integer"
        },
        {
         "name": "('neuroscience', '2. (sophomore)')",
         "rawType": "int64",
         "type": "integer"
        },
        {
         "name": "('neuroscience', '3. (junior)')",
         "rawType": "int64",
         "type": "integer"
        },
        {
         "name": "('undeclared', '1. (freshman)')",
         "rawType": "int64",
         "type": "integer"
        },
        {
         "name": "('undeclared', '2. (sophomore)')",
         "rawType": "int64",
         "type": "integer"
        },
        {
         "name": "('undeclared', '4. (senior)')",
         "rawType": "int64",
         "type": "integer"
        }
       ],
       "ref": "8291a635-a44b-4476-af46-1a28ad647e91",
       "rows": [
        [
         "Sec. 1",
         "1",
         "0",
         "0",
         "0",
         "1",
         "2",
         "1",
         "0",
         "1",
         "1",
         "1",
         "2",
         "0",
         "0",
         "0",
         "1",
         "2"
        ],
        [
         "Sec. 2",
         "2",
         "1",
         "2",
         "1",
         "0",
         "1",
         "0",
         "3",
         "1",
         "0",
         "3",
         "2",
         "2",
         "1",
         "2",
         "3",
         "1"
        ]
       ],
       "shape": {
        "columns": 17,
        "rows": 2
       }
      },
      "text/html": [
       "<div>\n",
       "<style scoped>\n",
       "    .dataframe tbody tr th:only-of-type {\n",
       "        vertical-align: middle;\n",
       "    }\n",
       "\n",
       "    .dataframe tbody tr th {\n",
       "        vertical-align: top;\n",
       "    }\n",
       "\n",
       "    .dataframe thead tr th {\n",
       "        text-align: left;\n",
       "    }\n",
       "\n",
       "    .dataframe thead tr:last-of-type th {\n",
       "        text-align: right;\n",
       "    }\n",
       "</style>\n",
       "<table border=\"1\" class=\"dataframe\">\n",
       "  <thead>\n",
       "    <tr>\n",
       "      <th>Major</th>\n",
       "      <th colspan=\"4\" halign=\"left\">bus. adm.</th>\n",
       "      <th colspan=\"4\" halign=\"left\">data.sci</th>\n",
       "      <th colspan=\"3\" halign=\"left\">math</th>\n",
       "      <th colspan=\"3\" halign=\"left\">neuroscience</th>\n",
       "      <th colspan=\"3\" halign=\"left\">undeclared</th>\n",
       "    </tr>\n",
       "    <tr>\n",
       "      <th>Grade Level</th>\n",
       "      <th>1. (freshman)</th>\n",
       "      <th>2. (sophomore)</th>\n",
       "      <th>3. (junior)</th>\n",
       "      <th>4. (senior)</th>\n",
       "      <th>1. (freshman)</th>\n",
       "      <th>2. (sophomore)</th>\n",
       "      <th>3. (junior)</th>\n",
       "      <th>4. (senior)</th>\n",
       "      <th>2. (sophomore)</th>\n",
       "      <th>3. (junior)</th>\n",
       "      <th>4. (senior)</th>\n",
       "      <th>1. (freshman)</th>\n",
       "      <th>2. (sophomore)</th>\n",
       "      <th>3. (junior)</th>\n",
       "      <th>1. (freshman)</th>\n",
       "      <th>2. (sophomore)</th>\n",
       "      <th>4. (senior)</th>\n",
       "    </tr>\n",
       "    <tr>\n",
       "      <th>Section</th>\n",
       "      <th></th>\n",
       "      <th></th>\n",
       "      <th></th>\n",
       "      <th></th>\n",
       "      <th></th>\n",
       "      <th></th>\n",
       "      <th></th>\n",
       "      <th></th>\n",
       "      <th></th>\n",
       "      <th></th>\n",
       "      <th></th>\n",
       "      <th></th>\n",
       "      <th></th>\n",
       "      <th></th>\n",
       "      <th></th>\n",
       "      <th></th>\n",
       "      <th></th>\n",
       "    </tr>\n",
       "  </thead>\n",
       "  <tbody>\n",
       "    <tr>\n",
       "      <th>Sec. 1</th>\n",
       "      <td>1</td>\n",
       "      <td>0</td>\n",
       "      <td>0</td>\n",
       "      <td>0</td>\n",
       "      <td>1</td>\n",
       "      <td>2</td>\n",
       "      <td>1</td>\n",
       "      <td>0</td>\n",
       "      <td>1</td>\n",
       "      <td>1</td>\n",
       "      <td>1</td>\n",
       "      <td>2</td>\n",
       "      <td>0</td>\n",
       "      <td>0</td>\n",
       "      <td>0</td>\n",
       "      <td>1</td>\n",
       "      <td>2</td>\n",
       "    </tr>\n",
       "    <tr>\n",
       "      <th>Sec. 2</th>\n",
       "      <td>2</td>\n",
       "      <td>1</td>\n",
       "      <td>2</td>\n",
       "      <td>1</td>\n",
       "      <td>0</td>\n",
       "      <td>1</td>\n",
       "      <td>0</td>\n",
       "      <td>3</td>\n",
       "      <td>1</td>\n",
       "      <td>0</td>\n",
       "      <td>3</td>\n",
       "      <td>2</td>\n",
       "      <td>2</td>\n",
       "      <td>1</td>\n",
       "      <td>2</td>\n",
       "      <td>3</td>\n",
       "      <td>1</td>\n",
       "    </tr>\n",
       "  </tbody>\n",
       "</table>\n",
       "</div>"
      ],
      "text/plain": [
       "Major           bus. adm.                                         \\\n",
       "Grade Level 1. (freshman) 2. (sophomore) 3. (junior) 4. (senior)   \n",
       "Section                                                            \n",
       "Sec. 1                  1              0           0           0   \n",
       "Sec. 2                  2              1           2           1   \n",
       "\n",
       "Major            data.sci                                         \\\n",
       "Grade Level 1. (freshman) 2. (sophomore) 3. (junior) 4. (senior)   \n",
       "Section                                                            \n",
       "Sec. 1                  1              2           1           0   \n",
       "Sec. 2                  0              1           0           3   \n",
       "\n",
       "Major                 math                          neuroscience  \\\n",
       "Grade Level 2. (sophomore) 3. (junior) 4. (senior) 1. (freshman)   \n",
       "Section                                                            \n",
       "Sec. 1                   1           1           1             2   \n",
       "Sec. 2                   1           0           3             2   \n",
       "\n",
       "Major                                     undeclared                 \\\n",
       "Grade Level 2. (sophomore) 3. (junior) 1. (freshman) 2. (sophomore)   \n",
       "Section                                                               \n",
       "Sec. 1                   0           0             0              1   \n",
       "Sec. 2                   2           1             2              3   \n",
       "\n",
       "Major                    \n",
       "Grade Level 4. (senior)  \n",
       "Section                  \n",
       "Sec. 1                2  \n",
       "Sec. 2                1  "
      ]
     },
     "execution_count": 8,
     "metadata": {},
     "output_type": "execute_result"
    }
   ],
   "source": [
    "tbl_2 = pd.crosstab(index = fake_qtm_data[\"Section\"], columns = [fake_qtm_data[\"Major\"], fake_qtm_data[\"Grade Level\"]])\n",
    "tbl_2"
   ]
  },
  {
   "cell_type": "markdown",
   "id": "038a7953",
   "metadata": {},
   "source": [
    "Above, the index is \"Section\" so there are two rows of each class section. However, the column headings are **pairs** of the two types of data:\n",
    "- Column 1 is ('bus. adm.', '1. (freshman')) = # of business administration majors who are freshman.\n",
    "- Column 2 is ('bus. adm.', '2. (sophomore')) = # of business administration majors who are sophomores.\n",
    "- Column 3 is # of business adm. majors who are juniors\n",
    "- Column 4 is # of business adm. majors who are seniors\n",
    "- Column 5 is # of Data Science majors who are freshman\n",
    "- ...and so on\n",
    "\n",
    "The format of the columns is actually much clearer if we explicitly use the \"print\" function:"
   ]
  },
  {
   "cell_type": "code",
   "execution_count": 9,
   "id": "d1b8a3ae",
   "metadata": {},
   "outputs": [
    {
     "name": "stdout",
     "output_type": "stream",
     "text": [
      "Major           bus. adm.                                         \\\n",
      "Grade Level 1. (freshman) 2. (sophomore) 3. (junior) 4. (senior)   \n",
      "Section                                                            \n",
      "Sec. 1                  1              0           0           0   \n",
      "Sec. 2                  2              1           2           1   \n",
      "\n",
      "Major            data.sci                                         \\\n",
      "Grade Level 1. (freshman) 2. (sophomore) 3. (junior) 4. (senior)   \n",
      "Section                                                            \n",
      "Sec. 1                  1              2           1           0   \n",
      "Sec. 2                  0              1           0           3   \n",
      "\n",
      "Major                 math                          neuroscience  \\\n",
      "Grade Level 2. (sophomore) 3. (junior) 4. (senior) 1. (freshman)   \n",
      "Section                                                            \n",
      "Sec. 1                   1           1           1             2   \n",
      "Sec. 2                   1           0           3             2   \n",
      "\n",
      "Major                                     undeclared                 \\\n",
      "Grade Level 2. (sophomore) 3. (junior) 1. (freshman) 2. (sophomore)   \n",
      "Section                                                               \n",
      "Sec. 1                   0           0             0              1   \n",
      "Sec. 2                   2           1             2              3   \n",
      "\n",
      "Major                    \n",
      "Grade Level 4. (senior)  \n",
      "Section                  \n",
      "Sec. 1                2  \n",
      "Sec. 2                1  \n"
     ]
    }
   ],
   "source": [
    "print(tbl_2)"
   ]
  },
  {
   "cell_type": "markdown",
   "id": "24095ea8",
   "metadata": {},
   "source": [
    "By default, pandas.crosstab just omits columns that have only zeros. Since there are no freshman math majors, that column does not appear. (If you add the optional argument \"dropna = False\" in pd.crosstab it will keep these columns)\n",
    "\n",
    "What if we would like to arrange the data so that instead of \"pairs\" attributes, the first five columns are the majors, and the last four columns are the grade level?\n",
    "\n",
    "What we need to do is combine the tables \"tbl_grade\" and \"tbl_major\" into a single table. I.e. stack them \"side-by-side\". In data and computer science, the word **concatenate** is usually used instead of \"combine\" or \"stack\"."
   ]
  },
  {
   "cell_type": "code",
   "execution_count": 10,
   "id": "aaef56c9",
   "metadata": {},
   "outputs": [
    {
     "name": "stdout",
     "output_type": "stream",
     "text": [
      "         bus. adm.  data.sci  math  neuroscience  undeclared  1. (freshman)  \\\n",
      "Section                                                                       \n",
      "Sec. 1           1         4     3             2           3              4   \n",
      "Sec. 2           6         4     4             5           6              6   \n",
      "\n",
      "         2. (sophomore)  3. (junior)  4. (senior)  \n",
      "Section                                            \n",
      "Sec. 1                4            2            3  \n",
      "Sec. 2                8            3            8  \n"
     ]
    }
   ],
   "source": [
    "# pd.concat is a function for \"concatenating\" DataFrames\n",
    "\n",
    "# if we do axis = 0, it stacks them on top of each other (not what we're trying to do)\n",
    "# axis = 1 it stacks them side-by-side (what we want)\n",
    "\n",
    "tbl_major_grade = pd.concat([tbl_major, tbl_grade], axis = 1)\n",
    "print(tbl_major_grade)"
   ]
  },
  {
   "cell_type": "markdown",
   "id": "0755729b",
   "metadata": {},
   "source": [
    "Can arrange them by grade level first too:"
   ]
  },
  {
   "cell_type": "code",
   "execution_count": 11,
   "id": "f1a44b91",
   "metadata": {},
   "outputs": [
    {
     "name": "stdout",
     "output_type": "stream",
     "text": [
      "         1. (freshman)  2. (sophomore)  3. (junior)  4. (senior)  bus. adm.  \\\n",
      "Section                                                                       \n",
      "Sec. 1               4               4            2            3          1   \n",
      "Sec. 2               6               8            3            8          6   \n",
      "\n",
      "         data.sci  math  neuroscience  undeclared  \n",
      "Section                                            \n",
      "Sec. 1          4     3             2           3  \n",
      "Sec. 2          4     4             5           6  \n"
     ]
    }
   ],
   "source": [
    "tbl_grade_major = pd.concat([tbl_grade, tbl_major], axis = 1)\n",
    "print(tbl_grade_major)"
   ]
  },
  {
   "cell_type": "code",
   "execution_count": null,
   "id": "8c5c8006",
   "metadata": {},
   "outputs": [],
   "source": []
  }
 ],
 "metadata": {
  "kernelspec": {
   "display_name": "base",
   "language": "python",
   "name": "python3"
  },
  "language_info": {
   "codemirror_mode": {
    "name": "ipython",
    "version": 3
   },
   "file_extension": ".py",
   "mimetype": "text/x-python",
   "name": "python",
   "nbconvert_exporter": "python",
   "pygments_lexer": "ipython3",
   "version": "3.13.5"
  }
 },
 "nbformat": 4,
 "nbformat_minor": 5
}
