{
 "cells": [
  {
   "attachments": {},
   "cell_type": "markdown",
   "metadata": {},
   "source": [
    "# <span style=\"color:darkblue\"> Lecture 2: Objects, Variables and Lists </span>"
   ]
  },
  {
   "attachments": {},
   "cell_type": "markdown",
   "metadata": {},
   "source": [
    "<font size=\"5\"> \n",
    "\n",
    "In this notebook we will:\n",
    "\n",
    "- Introduce \"objects\" and their corresponding data types\n",
    "- Learn how to assign values to **variables**\n",
    "- Cover **lists** - which are collections of objects"
   ]
  },
  {
   "cell_type": "markdown",
   "metadata": {},
   "source": [
    "# <span style=\"color:darkblue\"> 1. Objects and Data Types </span>"
   ]
  },
  {
   "cell_type": "markdown",
   "metadata": {},
   "source": [
    "## Almost everything in Python is an \"object\"\n",
    "- ### The built-in number \" 3 \" is an object\n",
    "- ### The phrase \" \"Hello World!\" \" is an object. (The number of quotation marks I typed is intentional)\n",
    "- ### Each object has a **type** (or a **class**)"
   ]
  },
  {
   "cell_type": "markdown",
   "metadata": {},
   "source": [
    "### Some common object types are\n",
    "* ### Integers (int): \"Whole numbers\" including zero and negatives \n",
    "* ### Floating-point numbers (float): Numbers with decimals\n",
    "* ### Strings (str): A sequence of characters representing text. \n",
    "\n",
    "\n",
    "### We can use the built-in Python function \"type\" to see what an object's type is. We pass the object as an \"argument\" (or input) to the function."
   ]
  },
  {
   "cell_type": "code",
   "execution_count": 1,
   "metadata": {},
   "outputs": [
    {
     "data": {
      "text/plain": [
       "int"
      ]
     },
     "execution_count": 1,
     "metadata": {},
     "output_type": "execute_result"
    }
   ],
   "source": [
    "type(3)"
   ]
  },
  {
   "cell_type": "code",
   "execution_count": 2,
   "metadata": {},
   "outputs": [
    {
     "data": {
      "text/plain": [
       "float"
      ]
     },
     "execution_count": 2,
     "metadata": {},
     "output_type": "execute_result"
    }
   ],
   "source": [
    "type(3.25)"
   ]
  },
  {
   "cell_type": "code",
   "execution_count": 3,
   "metadata": {},
   "outputs": [
    {
     "data": {
      "text/plain": [
       "str"
      ]
     },
     "execution_count": 3,
     "metadata": {},
     "output_type": "execute_result"
    }
   ],
   "source": [
    "type(\"Hello World!\")"
   ]
  },
  {
   "cell_type": "markdown",
   "metadata": {},
   "source": [
    "### Use the \"print\" function if you want a single code cell to print out multiple things:"
   ]
  },
  {
   "cell_type": "code",
   "execution_count": 4,
   "metadata": {},
   "outputs": [
    {
     "data": {
      "text/plain": [
       "str"
      ]
     },
     "execution_count": 4,
     "metadata": {},
     "output_type": "execute_result"
    }
   ],
   "source": [
    "type(3) # doesn't get printed\n",
    "type(3.25) # doesn't get printed\n",
    "type(\"Hello World!\") # gets printed"
   ]
  },
  {
   "cell_type": "code",
   "execution_count": 5,
   "metadata": {},
   "outputs": [
    {
     "name": "stdout",
     "output_type": "stream",
     "text": [
      "<class 'int'>\n",
      "<class 'float'>\n",
      "<class 'str'>\n"
     ]
    }
   ],
   "source": [
    "print(type(3))\n",
    "print(type(3.25))\n",
    "print(type(\"Hello World!\"))"
   ]
  },
  {
   "cell_type": "markdown",
   "metadata": {},
   "source": [
    "#### (but the formatting of the printing might be a little different)"
   ]
  },
  {
   "cell_type": "code",
   "execution_count": 6,
   "metadata": {},
   "outputs": [
    {
     "data": {
      "text/plain": [
       "str"
      ]
     },
     "execution_count": 6,
     "metadata": {},
     "output_type": "execute_result"
    }
   ],
   "source": [
    "# You can define strings with either single or double quotations.\n",
    "type('Hello World!')"
   ]
  },
  {
   "cell_type": "code",
   "execution_count": 7,
   "metadata": {},
   "outputs": [
    {
     "ename": "SyntaxError",
     "evalue": "unterminated string literal (detected at line 2) (1650452874.py, line 2)",
     "output_type": "error",
     "traceback": [
      "\u001b[0;36m  Cell \u001b[0;32mIn[7], line 2\u001b[0;36m\u001b[0m\n\u001b[0;31m    type('Hello World!\")\u001b[0m\n\u001b[0m         ^\u001b[0m\n\u001b[0;31mSyntaxError\u001b[0m\u001b[0;31m:\u001b[0m unterminated string literal (detected at line 2)\n"
     ]
    }
   ],
   "source": [
    "# But you can't mix single and double quotes:\n",
    "type('Hello World!\")"
   ]
  },
  {
   "cell_type": "code",
   "execution_count": null,
   "metadata": {},
   "outputs": [
    {
     "name": "stdout",
     "output_type": "stream",
     "text": [
      "Today's lecture is about Jupyter notebooks.\n",
      "In Python, \"classes\" and \"types\" are essentially synonymous.\n",
      "\n",
      "In today's lecture we learned that \"classes\" and \"types\" are essentially synonymous.\n",
      "In today's lecture we learned that \"classes\" and \"types\" are essentially synonymous.\n"
     ]
    }
   ],
   "source": [
    "# The flexibility of using either single or double quotes is useful when you want to include \n",
    "# a quote character inside a string.\n",
    "print(\"Today's lecture is about Jupyter notebooks.\")\n",
    "print('In Python, \"classes\" and \"types\" are essentially synonymous.')\n",
    "print() # prints a blank line\n",
    "# use both single and double quotes in the same string by adding a backslash in front\n",
    "print('In today\\'s lecture we learned that \"classes\" and \"types\" are essentially synonymous.')\n",
    "print(\"In today's lecture we learned that \\\"classes\\\" and \\\"types\\\" are essentially synonymous.\")"
   ]
  },
  {
   "cell_type": "code",
   "execution_count": 9,
   "metadata": {},
   "outputs": [
    {
     "data": {
      "text/plain": [
       "builtin_function_or_method"
      ]
     },
     "execution_count": 9,
     "metadata": {},
     "output_type": "execute_result"
    }
   ],
   "source": [
    "# Another common type is \"built-in functions\"\n",
    "type(print)"
   ]
  },
  {
   "cell_type": "code",
   "execution_count": 11,
   "metadata": {},
   "outputs": [
    {
     "name": "stdout",
     "output_type": "stream",
     "text": [
      "<class 'builtin_function_or_method'>\n",
      "<class 'float'>\n"
     ]
    }
   ],
   "source": [
    "import math\n",
    "print(type(math.sqrt))\n",
    "print(type(math.sqrt(3)))"
   ]
  },
  {
   "cell_type": "markdown",
   "metadata": {},
   "source": [
    "# <span style=\"color:darkblue\"> 2. Variables </span>"
   ]
  },
  {
   "cell_type": "markdown",
   "metadata": {},
   "source": [
    "* ### We usually want to use **variables**, which is \"a name that refers to a value\".\n",
    "* ### Another way to think about it: a variable is a \"named storage location\" where we save values for later use\n",
    "* ### Variables can be created using the **assignment operator** \"=\"\n",
    "* ### **WARNING**: in Python, \"=\" is NOT the \"equals sign\". It is the **assignment operator**"
   ]
  },
  {
   "cell_type": "markdown",
   "metadata": {},
   "source": [
    "### Put your hand over your heart and repeat these words: \"**I will not call the assignment operator an equal sign**\"\n",
    "(Actually, it common to call it an \"equal sign\" when informally discussing code. I do this too, I am just trying to drive the point home)"
   ]
  },
  {
   "cell_type": "code",
   "execution_count": 12,
   "metadata": {},
   "outputs": [],
   "source": [
    "x = 3\n",
    "y = 3.25"
   ]
  },
  {
   "cell_type": "markdown",
   "metadata": {},
   "source": [
    "## What happened in the above code cell?\n",
    "### 1. We took the built-in number 3 (an integer) and **assigned** this value to a new variable, called \"x\"\n",
    "### 2. We took the built-in number 3.25 (a float) and **assigned** this value to a new variable, called \"y\"\n",
    "\n",
    "#### Notice I did **not** say 'we created a variable called \"x\" and gave it the value 3'. Everything to the right of \"=\" happens first."
   ]
  },
  {
   "cell_type": "code",
   "execution_count": 13,
   "metadata": {},
   "outputs": [
    {
     "name": "stdout",
     "output_type": "stream",
     "text": [
      "<class 'int'>\n",
      "<class 'float'>\n"
     ]
    }
   ],
   "source": [
    "# you can check the type of a variable after you define it:\n",
    "print(type(x))\n",
    "print(type(y))"
   ]
  },
  {
   "cell_type": "markdown",
   "metadata": {},
   "source": [
    "### Or, you can click \"Jupyter Variables\" in the top panel of the notebook to see the variables that have been created"
   ]
  },
  {
   "cell_type": "code",
   "execution_count": 14,
   "metadata": {},
   "outputs": [
    {
     "name": "stdout",
     "output_type": "stream",
     "text": [
      "6\n",
      "7\n"
     ]
    }
   ],
   "source": [
    "# Consider the following block of code:\n",
    "z = 6\n",
    "print(z)\n",
    "z = z + 1\n",
    "print(z)\n",
    "\n",
    "# What do you think will be printed?\n",
    "\n",
    "# How should we interpret what happened?"
   ]
  },
  {
   "cell_type": "markdown",
   "metadata": {},
   "source": [
    "### This is not an algebra class, we do not have to call our variables \"x,y,z, etc.\"\n",
    "* ### Variable names can include letters (A-Z) and (a-z), numbers (0-9), and the underscore character \"_\"\n",
    "* ### Variable names cannot start with a letter\n",
    "* ### For readable code, choose **descriptive** variable names\n"
   ]
  },
  {
   "cell_type": "markdown",
   "metadata": {},
   "source": [
    "### Question: A vinyl record costs $32.99. The sales tax in Fulton County is 8.9%, while the sales tax in DeKalb County is 8%. How much more would you pay if you purchased it in DeKalb county?"
   ]
  },
  {
   "cell_type": "code",
   "execution_count": 15,
   "metadata": {},
   "outputs": [
    {
     "name": "stdout",
     "output_type": "stream",
     "text": [
      "0.2969099999999969\n"
     ]
    }
   ],
   "source": [
    "record_price = 32.99\n",
    "fulton_tax_rate = 0.089\n",
    "dekalb_tax_rate = 0.08\n",
    "\n",
    "fulton_cost = record_price + (record_price * fulton_tax_rate)\n",
    "dekalb_cost = record_price + record_price * dekalb_tax_rate\n",
    "\n",
    "price_difference = fulton_cost - dekalb_cost\n",
    "print(price_difference)"
   ]
  },
  {
   "cell_type": "code",
   "execution_count": 16,
   "metadata": {},
   "outputs": [
    {
     "name": "stdout",
     "output_type": "stream",
     "text": [
      "0.29999999999999716\n",
      "0.3\n"
     ]
    }
   ],
   "source": [
    "# When calculating the price after sales tax, stores typically round to the nearest cent.\n",
    "\n",
    "record_price = 32.99\n",
    "fulton_tax_rate = 0.089\n",
    "dekalb_tax_rate = 0.08\n",
    "\n",
    "fulton_cost = record_price + record_price * fulton_tax_rate\n",
    "# round to 2 decimal places\n",
    "fulton_cost = round(fulton_cost, 2) \n",
    "\n",
    "dekalb_cost = record_price + record_price * dekalb_tax_rate\n",
    "dekalb_cost = round(dekalb_cost, 2) # round to 2 decimal places\n",
    "\n",
    "price_difference = fulton_cost - dekalb_cost\n",
    "print(price_difference) # ?????\n",
    "\n",
    "# even though we have already rounded to 2 digits, must do it again because\n",
    "# Python uses binary floating-point arithmetic.\n",
    "\n",
    "price_difference = round(price_difference, 2)\n",
    "print(price_difference)"
   ]
  },
  {
   "cell_type": "markdown",
   "metadata": {},
   "source": [
    "### Variables do not have to be numbers"
   ]
  },
  {
   "cell_type": "code",
   "execution_count": 17,
   "metadata": {},
   "outputs": [
    {
     "name": "stdout",
     "output_type": "stream",
     "text": [
      "Peter\n",
      "<class 'str'>\n"
     ]
    }
   ],
   "source": [
    "first_name = \"Peter\"\n",
    "last_name = 'Sentz'\n",
    "course = \"QTM (DSci) 151 - Fall 2025, Sections 1 & 2\"\n",
    "\n",
    "print(first_name)\n",
    "print(type(first_name))"
   ]
  },
  {
   "cell_type": "markdown",
   "metadata": {},
   "source": [
    "### Variables are case sensitive. "
   ]
  },
  {
   "cell_type": "code",
   "execution_count": 18,
   "metadata": {},
   "outputs": [
    {
     "ename": "NameError",
     "evalue": "name 'Last_name' is not defined",
     "output_type": "error",
     "traceback": [
      "\u001b[0;31m---------------------------------------------------------------------------\u001b[0m",
      "\u001b[0;31mNameError\u001b[0m                                 Traceback (most recent call last)",
      "Cell \u001b[0;32mIn[18], line 1\u001b[0m\n\u001b[0;32m----> 1\u001b[0m \u001b[38;5;28mprint\u001b[39m(Last_name)\n",
      "\u001b[0;31mNameError\u001b[0m: name 'Last_name' is not defined"
     ]
    }
   ],
   "source": [
    "print(Last_name)"
   ]
  },
  {
   "cell_type": "markdown",
   "metadata": {},
   "source": [
    "### Must refer to variables **exactly** as they were defined"
   ]
  },
  {
   "cell_type": "code",
   "execution_count": 19,
   "metadata": {},
   "outputs": [
    {
     "ename": "NameError",
     "evalue": "name 'firstname' is not defined",
     "output_type": "error",
     "traceback": [
      "\u001b[0;31m---------------------------------------------------------------------------\u001b[0m",
      "\u001b[0;31mNameError\u001b[0m                                 Traceback (most recent call last)",
      "Cell \u001b[0;32mIn[19], line 1\u001b[0m\n\u001b[0;32m----> 1\u001b[0m \u001b[38;5;28mprint\u001b[39m(firstname)\n",
      "\u001b[0;31mNameError\u001b[0m: name 'firstname' is not defined"
     ]
    }
   ],
   "source": [
    "print(firstname)"
   ]
  },
  {
   "cell_type": "markdown",
   "metadata": {},
   "source": [
    "### There are many other types besides numbers and strings"
   ]
  },
  {
   "cell_type": "code",
   "execution_count": 20,
   "metadata": {},
   "outputs": [
    {
     "name": "stdout",
     "output_type": "stream",
     "text": [
      "<class 'pandas.core.frame.DataFrame'>\n"
     ]
    }
   ],
   "source": [
    "import pandas as pd \n",
    "\n",
    "car_features = pd.read_csv('data/features.csv')\n",
    "print(type(car_features))"
   ]
  },
  {
   "cell_type": "markdown",
   "metadata": {},
   "source": [
    "# <span style=\"color:darkblue\"> 3. Intro to Lists </span>\n",
    "\n",
    "### We often want to store multiple objects inside a single named location.\n",
    "\n",
    "### We can do so by creating \"lists\"\n",
    "- #### Lists are always created using square brackets [...]\n",
    "- #### The elements (items) of the list are separated by commas"
   ]
  },
  {
   "cell_type": "code",
   "execution_count": 28,
   "metadata": {},
   "outputs": [
    {
     "name": "stdout",
     "output_type": "stream",
     "text": [
      "<class 'list'>\n",
      "<class 'list'>\n"
     ]
    }
   ],
   "source": [
    "# Let's make a list of some of our favorite movies (as strings)\n",
    "# (one for each lecture)\n",
    "favorite_movies_lec_1 = [\"Lucy\", \"Lego Movie\", \"The Hunger Games\", \"Evil Dead (2013 remake)\"]\n",
    "\n",
    "favorite_movies_lec_2 = [\"Zootopia\", \"The Avengers\", \"Into the Wild\", \"Evil Dead (2013 remake)\"]\n",
    "print(type(favorite_movies_lec_1))\n",
    "print(type(favorite_movies_lec_2))"
   ]
  },
  {
   "cell_type": "markdown",
   "metadata": {},
   "source": [
    "### We can also count how many elements are in a list, by using the \"len\" (length) function"
   ]
  },
  {
   "cell_type": "code",
   "execution_count": 29,
   "metadata": {},
   "outputs": [
    {
     "name": "stdout",
     "output_type": "stream",
     "text": [
      "4\n"
     ]
    }
   ],
   "source": [
    "print(len(favorite_movies_lec_1))"
   ]
  },
  {
   "cell_type": "markdown",
   "metadata": {},
   "source": [
    "## Accessing individual elements from a list\n",
    "\n",
    "- #### Use square brackets, e.g. favorite_movies_lec_1[2]\n",
    "- #### Python lists always start at the **ZERO** position"
   ]
  },
  {
   "cell_type": "code",
   "execution_count": 30,
   "metadata": {},
   "outputs": [
    {
     "name": "stdout",
     "output_type": "stream",
     "text": [
      "['Zootopia', 'The Avengers', 'Into the Wild', 'Evil Dead (2013 remake)']\n",
      "Zootopia\n"
     ]
    }
   ],
   "source": [
    "print(favorite_movies_lec_2)\n",
    "\n",
    "print(favorite_movies_lec_2[0])"
   ]
  },
  {
   "cell_type": "code",
   "execution_count": 31,
   "metadata": {},
   "outputs": [
    {
     "name": "stdout",
     "output_type": "stream",
     "text": [
      "['Lucy', 'Lego Movie', 'The Hunger Games', 'Evil Dead (2013 remake)']\n",
      "Lego Movie\n"
     ]
    }
   ],
   "source": [
    "print(favorite_movies_lec_1)\n",
    "\n",
    "print(favorite_movies_lec_1[1])"
   ]
  },
  {
   "cell_type": "markdown",
   "metadata": {},
   "source": [
    "### It is often convenient to save an index to a named variable...you can use this variable to access the corresponding element of the list"
   ]
  },
  {
   "cell_type": "code",
   "execution_count": 33,
   "metadata": {},
   "outputs": [
    {
     "name": "stdout",
     "output_type": "stream",
     "text": [
      "['Lucy', 'Lego Movie', 'The Hunger Games', 'Evil Dead (2013 remake)']\n",
      "Lego Movie\n"
     ]
    }
   ],
   "source": [
    "print(favorite_movies_lec_1)\n",
    "\n",
    "# Kevin chose \"Lego Movie\" as his favorite, which is in position *1*\n",
    "kevin_index = 1\n",
    "\n",
    "kevins_fav_movie = favorite_movies_lec_1[kevin_index]\n",
    "print(kevins_fav_movie)"
   ]
  },
  {
   "cell_type": "code",
   "execution_count": 34,
   "metadata": {},
   "outputs": [
    {
     "name": "stdout",
     "output_type": "stream",
     "text": [
      "['Zootopia', 'The Avengers', 'Into the Wild', 'Evil Dead (2013 remake)']\n",
      "The Avengers\n"
     ]
    }
   ],
   "source": [
    "print(favorite_movies_lec_2)\n",
    "# Niko chose \"The Avengers\" as his favorite, which is in position *1*\n",
    "\n",
    "niko_index = 1\n",
    "nikos_fav_movie = favorite_movies_lec_2[niko_index]\n",
    "print(nikos_fav_movie)"
   ]
  },
  {
   "cell_type": "markdown",
   "metadata": {},
   "source": [
    "# <span style=\"color:darkblue\"> Stuff we didn't get to </span>"
   ]
  },
  {
   "cell_type": "markdown",
   "metadata": {},
   "source": [
    "# Concatenate two or more strings\n",
    "\n",
    "* ### We saw that two numbers can be added using \"+\"\n",
    "* ### The \"+\" operator can also be used on strings, which concatenates (combines) them\n"
   ]
  },
  {
   "cell_type": "code",
   "execution_count": 35,
   "metadata": {},
   "outputs": [
    {
     "name": "stdout",
     "output_type": "stream",
     "text": [
      "Hello World!\n",
      "Hello World!\n",
      "Hello World!\n"
     ]
    }
   ],
   "source": [
    "print(\"Hello World!\")\n",
    "print(\"Hello \" + \"World!\")\n",
    "print(\"Hello \" \"World\" + \"!\")"
   ]
  },
  {
   "cell_type": "markdown",
   "metadata": {},
   "source": [
    "### You can also concatenate strings after they are stored as variables"
   ]
  },
  {
   "cell_type": "code",
   "execution_count": 36,
   "metadata": {},
   "outputs": [
    {
     "name": "stdout",
     "output_type": "stream",
     "text": [
      "PeterSentz\n"
     ]
    }
   ],
   "source": [
    "full_name = first_name + last_name\n",
    "print(full_name)"
   ]
  },
  {
   "cell_type": "code",
   "execution_count": null,
   "metadata": {},
   "outputs": [],
   "source": [
    "# What should we do if we want a space between the first and last names?\n",
    "# Using the variables first_name and last_name, print \"Peter Sentz\" (with a space in between)\n",
    "\n",
    "\n"
   ]
  },
  {
   "cell_type": "markdown",
   "metadata": {},
   "source": [
    "<font size = \"5\">\n",
    "\n",
    "Try it yourself!\n",
    "\n",
    "- Define a variable with your name.\n",
    "- Define a new variable with your major.\n",
    "- Print a concantenated string with your name and major"
   ]
  },
  {
   "cell_type": "code",
   "execution_count": 37,
   "metadata": {},
   "outputs": [],
   "source": [
    "#  Write your own code here\n",
    "# Print the phrase \"I am [name] majoring in [major]\", after defining the two variables below.\n",
    "\n",
    "name = ...\n",
    "major = ...\n",
    "\n"
   ]
  },
  {
   "cell_type": "markdown",
   "metadata": {},
   "source": [
    "### Lists can have lists with different types - and you can place values from existing variables too"
   ]
  },
  {
   "cell_type": "code",
   "execution_count": 38,
   "metadata": {},
   "outputs": [
    {
     "name": "stdout",
     "output_type": "stream",
     "text": [
      "[2, 0.1, -2, 'QTM151', 3.3, 'DSci151', 12.1]\n"
     ]
    }
   ],
   "source": [
    "q = 12.1\n",
    "my_list = [2, 0.1, -2, \"QTM151\", 3.3, \"DSci151\", q]\n",
    "print(my_list)"
   ]
  },
  {
   "cell_type": "markdown",
   "metadata": {},
   "source": [
    "### You can even have a list where one of the elements is itself a list"
   ]
  },
  {
   "cell_type": "code",
   "execution_count": 41,
   "metadata": {},
   "outputs": [
    {
     "name": "stdout",
     "output_type": "stream",
     "text": [
      "[7, 5, ['Lucy', 'Lego Movie', 'The Hunger Games', 'Zootopia', 'The Avengers', 'Into the Wild', 'Evil Dead (2013 remake)'], '20', 20]\n"
     ]
    }
   ],
   "source": [
    "favorite_movies = [\"Lucy\", \"Lego Movie\", \"The Hunger Games\", \"Zootopia\", \"The Avengers\",\n",
    "                   \"Into the Wild\", \"Evil Dead (2013 remake)\"]\n",
    "\n",
    "another_list = [7, 5, favorite_movies, \"20\", 20]\n",
    "print(another_list)\n",
    "\n",
    "# entries are:\n",
    "# -> 7 (integer)\n",
    "# -> 5 (integer)\n",
    "# -> favorite_movies (list we created above)\n",
    "# -> the string \"20\" \n",
    "# -> the number 20 (an integer)"
   ]
  },
  {
   "cell_type": "code",
   "execution_count": 42,
   "metadata": {},
   "outputs": [
    {
     "name": "stdout",
     "output_type": "stream",
     "text": [
      "7\n"
     ]
    }
   ],
   "source": [
    "# We would describe the integer 7 as the \"first element\" of another_list\n",
    "# but in Python, this is the \"zeroth element\" of the list\n",
    "print(another_list[0])\n",
    "\n",
    "# maybe, better to say \"the first element is in position 0\""
   ]
  },
  {
   "cell_type": "code",
   "execution_count": 43,
   "metadata": {},
   "outputs": [
    {
     "name": "stdout",
     "output_type": "stream",
     "text": [
      "5\n"
     ]
    }
   ],
   "source": [
    "# the second element (the integer 5) is in position 1\n",
    "print(another_list[1])"
   ]
  },
  {
   "cell_type": "code",
   "execution_count": 44,
   "metadata": {},
   "outputs": [
    {
     "name": "stdout",
     "output_type": "stream",
     "text": [
      "['Lucy', 'Lego Movie', 'The Hunger Games', 'Zootopia', 'The Avengers', 'Into the Wild', 'Evil Dead (2013 remake)']\n",
      "20\n",
      "20\n"
     ]
    }
   ],
   "source": [
    "# print the other elements\n",
    "print(another_list[2])\n",
    "print(another_list[3])\n",
    "print(another_list[4])"
   ]
  },
  {
   "cell_type": "markdown",
   "metadata": {},
   "source": [
    "### You can extract a value from a list, and assign it to a new variable"
   ]
  },
  {
   "cell_type": "code",
   "execution_count": 45,
   "metadata": {},
   "outputs": [
    {
     "name": "stdout",
     "output_type": "stream",
     "text": [
      "eggs\n"
     ]
    }
   ],
   "source": [
    "grocery_list = [\"apples\", \"bananas\", \"diapers\", \"bread\", \"eggs\", \"milk\"]\n",
    "\n",
    "grocery_item = grocery_list[4]\n",
    "print(grocery_item) # what will be printed?"
   ]
  },
  {
   "attachments": {},
   "cell_type": "markdown",
   "metadata": {},
   "source": [
    "## "
   ]
  }
 ],
 "metadata": {
  "kernelspec": {
   "display_name": "base",
   "language": "python",
   "name": "python3"
  },
  "language_info": {
   "codemirror_mode": {
    "name": "ipython",
    "version": 3
   },
   "file_extension": ".py",
   "mimetype": "text/x-python",
   "name": "python",
   "nbconvert_exporter": "python",
   "pygments_lexer": "ipython3",
   "version": "3.13.5"
  },
  "orig_nbformat": 4
 },
 "nbformat": 4,
 "nbformat_minor": 2
}
