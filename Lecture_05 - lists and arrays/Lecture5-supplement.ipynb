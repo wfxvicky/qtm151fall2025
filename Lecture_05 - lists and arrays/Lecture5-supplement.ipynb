{
 "cells": [
  {
   "cell_type": "markdown",
   "id": "3b1caaef",
   "metadata": {},
   "source": [
    "# <span style=\"color:darkblue\"> 1. Lists </span>"
   ]
  },
  {
   "cell_type": "markdown",
   "id": "559cfe2f",
   "metadata": {},
   "source": [
    "##### Accessing elements with negative numbers"
   ]
  },
  {
   "cell_type": "code",
   "execution_count": 1,
   "id": "b50485e7",
   "metadata": {},
   "outputs": [
    {
     "name": "stdout",
     "output_type": "stream",
     "text": [
      "Lucy\n",
      "Lego Movie\n",
      "The Hunger Games\n",
      "\n",
      "Mulholland Drive\n",
      "Evil Dead (2013 remake)\n",
      "Into the Wild\n"
     ]
    }
   ],
   "source": [
    "favorite_movies = [\"Lucy\", \"Lego Movie\", \"The Hunger Games\", \"Zootopia\", \n",
    "                   \"The Avengers\", \"Into the Wild\", \"Evil Dead (2013 remake)\",\n",
    "                   \"Mulholland Drive\"]\n",
    "\n",
    "print(favorite_movies[0]) # first element\n",
    "print(favorite_movies[1]) # second element\n",
    "print(favorite_movies[2]) # third element\n",
    "print()\n",
    "print(favorite_movies[-1]) # last element\n",
    "print(favorite_movies[-2]) # second-to-last element\n",
    "print(favorite_movies[-3]) # third-to-last element"
   ]
  },
  {
   "cell_type": "markdown",
   "id": "6ec193ff",
   "metadata": {},
   "source": [
    "##### Appending new elements to a list"
   ]
  },
  {
   "cell_type": "code",
   "execution_count": 3,
   "id": "86c137ba",
   "metadata": {},
   "outputs": [
    {
     "name": "stdout",
     "output_type": "stream",
     "text": [
      "[7, 5, 'Emory', -7, 'Atlanta', 'Department of Data and Decision Sciences']\n"
     ]
    }
   ],
   "source": [
    "my_list = [7, 5, \"Emory\", -7, \"Atlanta\"]\n",
    "\n",
    "# add new item to the end of the list using the \"append\" method.\n",
    "my_list.append(\"Department of Data and Decision Sciences\")\n",
    "print(my_list)"
   ]
  },
  {
   "cell_type": "markdown",
   "id": "aef31e09",
   "metadata": {},
   "source": [
    "##### Basic sorting of lists"
   ]
  },
  {
   "cell_type": "code",
   "execution_count": 6,
   "id": "e7269e6a",
   "metadata": {},
   "outputs": [
    {
     "name": "stdout",
     "output_type": "stream",
     "text": [
      "[-5, -0.1, 1.2, 3, 5.3, 11, 25]\n",
      "['Abigail', 'Ali', 'Eleanor', 'Frank', 'Peter', 'Zev']\n"
     ]
    }
   ],
   "source": [
    "numerical_list = [5.3, 25, -0.1, -5, 11, 3, 1.2]\n",
    "string_list = [\"Frank\", \"Zev\", \"Peter\", \"Abigail\", \"Ali\", \"Eleanor\"]\n",
    "\n",
    "numerical_list.sort()\n",
    "string_list.sort()\n",
    "\n",
    "print(numerical_list)\n",
    "print(string_list)"
   ]
  },
  {
   "cell_type": "markdown",
   "id": "c40e9d61",
   "metadata": {},
   "source": [
    "##### Copying lists"
   ]
  },
  {
   "cell_type": "code",
   "execution_count": 7,
   "id": "868125f5",
   "metadata": {},
   "outputs": [
    {
     "name": "stdout",
     "output_type": "stream",
     "text": [
      "['Nothing', -1.0, 5.1, 9.9]\n"
     ]
    }
   ],
   "source": [
    "# remember that the assignment operator doesn't make a copy if you put a list on the left-hand side\n",
    "list_of_floats = [2.3, -1.0, 5.1, 9.9]\n",
    "\n",
    "not_a_copy = list_of_floats\n",
    "\n",
    "list_of_floats[0] = \"Nothing\"\n",
    "\n",
    "print(not_a_copy)"
   ]
  },
  {
   "cell_type": "code",
   "execution_count": 9,
   "id": "4c2df621",
   "metadata": {},
   "outputs": [
    {
     "name": "stdout",
     "output_type": "stream",
     "text": [
      "[2.3, -1.0, 5.1, 9.9]\n"
     ]
    }
   ],
   "source": [
    "# if you want to make a copy, use list.copy() method\n",
    "\n",
    "list_of_floats = [2.3, -1.0, 5.1, 9.9]\n",
    "\n",
    "copy_of_list = list_of_floats.copy()\n",
    "\n",
    "list_of_floats[0] = \"Nothing\"\n",
    "\n",
    "print(copy_of_list)\n"
   ]
  },
  {
   "cell_type": "markdown",
   "id": "0514a01c",
   "metadata": {},
   "source": [
    "##### Other list methods\n",
    "See [here](https://docs.python.org/3/tutorial/datastructures.html) for all available list methods.\n",
    "Here are two more useful ones"
   ]
  },
  {
   "cell_type": "code",
   "execution_count": 10,
   "id": "26266fc3",
   "metadata": {},
   "outputs": [
    {
     "name": "stdout",
     "output_type": "stream",
     "text": [
      "['purple', 'pink', 'orange', 'red', 'green', 'blue']\n"
     ]
    }
   ],
   "source": [
    "# reverse the order of a list\n",
    "colors = [\"blue\", \"green\", \"red\", \"orange\", \"pink\", \"purple\"]\n",
    "\n",
    "colors.reverse()\n",
    "\n",
    "print(colors)"
   ]
  },
  {
   "cell_type": "code",
   "execution_count": 13,
   "id": "6d57ea20",
   "metadata": {},
   "outputs": [
    {
     "name": "stdout",
     "output_type": "stream",
     "text": [
      "3\n"
     ]
    }
   ],
   "source": [
    "# count the number of times an item appears in the list\n",
    "fav_colors = [\"blue\", \"pink\", \"black\", \"pink\", \"red\", \"blue\", \"green\", \"black\", \"pink\"]\n",
    "\n",
    "pink_count = fav_colors.count(\"pink\")\n",
    "\n",
    "print(pink_count) # prints \"3\", the number of times \"pink\" appears in the list\n"
   ]
  },
  {
   "cell_type": "markdown",
   "id": "2d16b7e8",
   "metadata": {},
   "source": [
    "# <span style=\"color:darkblue\"> 2. NumPy Arrays </span>"
   ]
  },
  {
   "cell_type": "markdown",
   "id": "c45c4b7a",
   "metadata": {},
   "source": [
    "##### Some features of arrays are similar to lists: "
   ]
  },
  {
   "cell_type": "code",
   "execution_count": 16,
   "id": "193470b3",
   "metadata": {},
   "outputs": [
    {
     "name": "stdout",
     "output_type": "stream",
     "text": [
      "9.6\n",
      "4.8\n"
     ]
    }
   ],
   "source": [
    "import numpy as np \n",
    "\n",
    "x = np.array([1.2, 2.4, 4.8, 9.6])\n",
    "\n",
    "\n",
    "# print last element of x\n",
    "print(x[-1])\n",
    "\n",
    "# print second-to-last element of x\n",
    "print(x[-2])"
   ]
  },
  {
   "cell_type": "markdown",
   "id": "296ae81f",
   "metadata": {},
   "source": [
    "##### Be careful when making a copy:"
   ]
  },
  {
   "cell_type": "code",
   "execution_count": 18,
   "id": "ea70e03f",
   "metadata": {},
   "outputs": [
    {
     "name": "stdout",
     "output_type": "stream",
     "text": [
      "[-24.    2.4   4.8   9.6]\n",
      "[1.2 2.4 4.8 9.6]\n"
     ]
    }
   ],
   "source": [
    "x = np.array([1.2, 2.4, 4.8, 9.6])\n",
    "\n",
    "not_a_copy = x\n",
    "\n",
    "copy_of_x = np.copy(x) # use numpy.copy function\n",
    "\n",
    "x[0] = -24\n",
    "\n",
    "print(not_a_copy)\n",
    "print(copy_of_x)"
   ]
  },
  {
   "cell_type": "markdown",
   "id": "5fed3671",
   "metadata": {},
   "source": [
    "##### Append a single value"
   ]
  },
  {
   "cell_type": "code",
   "execution_count": 25,
   "id": "604fbc68",
   "metadata": {},
   "outputs": [
    {
     "name": "stdout",
     "output_type": "stream",
     "text": [
      "[ 5.1  3.  -2.   4.4 12. ]\n"
     ]
    }
   ],
   "source": [
    "z = np.array([5.1, 3.0, -2, 4.4])\n",
    "z = np.append(z, 12)\n",
    "print(z)"
   ]
  },
  {
   "cell_type": "markdown",
   "id": "3e19f880",
   "metadata": {},
   "source": [
    "##### Append multiple values"
   ]
  },
  {
   "cell_type": "code",
   "execution_count": 26,
   "id": "55b43681",
   "metadata": {},
   "outputs": [
    {
     "name": "stdout",
     "output_type": "stream",
     "text": [
      "[ 5.1  3.  -2.   4.4 13.1  0.  -1.   2. ]\n"
     ]
    }
   ],
   "source": [
    "z = np.array([5.1, 3.0, -2, 4.4])\n",
    "z = np.append(z, [13.1, 0.0, -1.0, 2.0])\n",
    "print(z)"
   ]
  },
  {
   "cell_type": "markdown",
   "id": "ac4de783",
   "metadata": {},
   "source": [
    "##### Sorting arrays"
   ]
  },
  {
   "cell_type": "code",
   "execution_count": 27,
   "id": "bbec3525",
   "metadata": {},
   "outputs": [
    {
     "name": "stdout",
     "output_type": "stream",
     "text": [
      "[-2.   3.   4.4  5.1]\n"
     ]
    }
   ],
   "source": [
    "z = np.array([5.1, 3.0, -2, 4.4])\n",
    "\n",
    "# sort the array z\n",
    "z.sort()\n",
    "\n",
    "print(z)"
   ]
  },
  {
   "cell_type": "code",
   "execution_count": 28,
   "id": "2a618cf3",
   "metadata": {},
   "outputs": [
    {
     "name": "stdout",
     "output_type": "stream",
     "text": [
      "[-2.   3.   4.4  5.1]\n",
      "[ 5.1  3.  -2.   4.4]\n"
     ]
    }
   ],
   "source": [
    "z = np.array([5.1, 3.0, -2, 4.4])\n",
    "\n",
    "# created a sorted copy of z. The original array is left unchanged\n",
    "z_sorted = np.sort(z)\n",
    "\n",
    "print(z_sorted)\n",
    "print(z)"
   ]
  },
  {
   "cell_type": "markdown",
   "id": "6db49009",
   "metadata": {},
   "source": [
    "##### Computing summary statistics of numpy array\n",
    "\n",
    "##### We already saw the following example:"
   ]
  },
  {
   "cell_type": "code",
   "execution_count": 61,
   "id": "68038150",
   "metadata": {},
   "outputs": [
    {
     "name": "stdout",
     "output_type": "stream",
     "text": [
      "4.179148163397448\n",
      "4.269494739300707\n",
      "3.75\n",
      "11.45\n",
      "-2.0\n"
     ]
    }
   ],
   "source": [
    "c_vec = np.array([4.2, 1.2, 11.45, -2, 0, 9, 3.3, 2*np.pi]) # last element is pi\n",
    "\n",
    "\n",
    "print(np.mean(c_vec)) # mean\n",
    "print(np.std(c_vec)) # standard deviation\n",
    "print(np.median(c_vec)) # median\n",
    "print(np.max(c_vec)) # maximum\n",
    "print(np.min(c_vec)) # minimum"
   ]
  },
  {
   "cell_type": "markdown",
   "id": "176f4e40",
   "metadata": {},
   "source": [
    "##### Another way of computing these values:"
   ]
  },
  {
   "cell_type": "code",
   "execution_count": 63,
   "id": "e1ba3833",
   "metadata": {},
   "outputs": [
    {
     "name": "stdout",
     "output_type": "stream",
     "text": [
      "4.179148163397448\n",
      "4.269494739300707\n",
      "11.45\n",
      "-2.0\n"
     ]
    }
   ],
   "source": [
    "c_vec = np.array([4.2, 1.2, 11.45, -2, 0, 9, 3.3, 2*np.pi])\n",
    "\n",
    "print(c_vec.mean())\n",
    "print(c_vec.std())\n",
    "\n",
    "# arrays don't have a .median() method for some reason...\n",
    "\n",
    "print(c_vec.max())\n",
    "print(c_vec.min())"
   ]
  },
  {
   "cell_type": "markdown",
   "id": "62924849",
   "metadata": {},
   "source": [
    "# <span style=\"color:darkblue\"> 3. NumPy Arrays of Random Numbers </span>"
   ]
  },
  {
   "cell_type": "markdown",
   "id": "7cc47275",
   "metadata": {},
   "source": [
    "##### Samples of random variables can be generated using the numpy.random sub-library"
   ]
  },
  {
   "cell_type": "code",
   "execution_count": 32,
   "id": "cab8a6a9",
   "metadata": {},
   "outputs": [
    {
     "name": "stdout",
     "output_type": "stream",
     "text": [
      "-0.04751752882265217\n"
     ]
    }
   ],
   "source": [
    "import numpy as np\n",
    "\n",
    "# generate a sample from a standard Normal Distribution\n",
    "# \"Standard Normal\" means the mean is zero, and the standard deviation is one.\n",
    "normal_sample = np.random.normal()\n",
    "print(normal_sample)"
   ]
  },
  {
   "cell_type": "code",
   "execution_count": 55,
   "id": "f7d4a28a",
   "metadata": {},
   "outputs": [
    {
     "name": "stdout",
     "output_type": "stream",
     "text": [
      "[-0.1653447   1.1632818   0.48846739  1.84992717 -0.12948514  0.29344266\n",
      " -0.81487454 -1.08525595 -0.36713572  2.22254045]\n",
      "<class 'numpy.ndarray'>\n"
     ]
    }
   ],
   "source": [
    "# generate 10 samples from a standard Normal Distribution (saved in a numpy.array)\n",
    "\n",
    "normal_sample = np.random.normal(size = 10)\n",
    "print(normal_sample)\n",
    "print(type(normal_sample))"
   ]
  },
  {
   "cell_type": "code",
   "execution_count": 36,
   "id": "4a86ad78",
   "metadata": {},
   "outputs": [
    {
     "name": "stdout",
     "output_type": "stream",
     "text": [
      "0.2730458473565126\n",
      "[ 0.93745355 -0.61015061  1.27858454  1.20141737  1.55706395  0.68532113\n",
      "  0.14799224]\n"
     ]
    }
   ],
   "source": [
    "# To change the mean of the normal distribution, use the \"loc\" argument\n",
    "# This refers to the *location* of the mean.\n",
    "\n",
    "# generate single sample of normal distribution with mean = 1\n",
    "single_sample = np.random.normal(loc = 1)\n",
    "\n",
    "# generate 7 samples from a normal distribution with mean = 1\n",
    "seven_samples = np.random.normal(loc = 1, size = 7)\n",
    "print(single_sample)\n",
    "print(seven_samples)"
   ]
  },
  {
   "cell_type": "code",
   "execution_count": 37,
   "id": "942fea5a",
   "metadata": {},
   "outputs": [
    {
     "name": "stdout",
     "output_type": "stream",
     "text": [
      "-0.24149363612912897\n",
      "[ 0.05146947 -0.55418355 -3.92930472  0.85791407 -2.64348373 -1.41135335]\n",
      "-4.529800551604452\n",
      "[-1.54599874  2.07405638  1.0611158  -2.05209815 -5.04922647]\n"
     ]
    }
   ],
   "source": [
    "# To change the standard deviation of the normal distribution, use the \"scale\" argument\n",
    "\n",
    "# generate single sample of normal distribution with standard deviation = 2.4\n",
    "single_sample = np.random.normal(scale = 2.4)\n",
    "\n",
    "# generate 6 samples from a normal distribution with standard deviation = 2.4\n",
    "six_samples = np.random.normal(scale = 2.4, size = 6)\n",
    "\n",
    "# generate single sample from a normal distribution with standard deviation = 2.4, and mean = -1\n",
    "single_sample_2 = np.random.normal(loc = -1, scale = 2.4)\n",
    "\n",
    "# generate 5 samples from a normal distribution with standard deviation = 2.4, and mean = -1\n",
    "five_samples = np.random.normal(loc = -1, scale = 2.4, size = 5)\n",
    "\n",
    "print(single_sample)\n",
    "print(six_samples)\n",
    "print(single_sample_2)\n",
    "print(five_samples)\n"
   ]
  },
  {
   "cell_type": "markdown",
   "id": "0571ece2",
   "metadata": {},
   "source": [
    "##### Run the next cell 3 times in a row. Notice that the random numbers change each time"
   ]
  },
  {
   "cell_type": "code",
   "execution_count": 41,
   "id": "c7f5dfc0",
   "metadata": {},
   "outputs": [
    {
     "name": "stdout",
     "output_type": "stream",
     "text": [
      "[ 0.83209859  0.96802812 -2.06986416  2.26735872]\n"
     ]
    }
   ],
   "source": [
    "# run this 3 times\n",
    "print(np.random.normal(loc = 0.5, scale = 3, size = 4))"
   ]
  },
  {
   "cell_type": "markdown",
   "id": "dc07e8cf",
   "metadata": {},
   "source": [
    "##### In order to reproduce results, we often want the same set of random numbers to be generated.\n",
    "\n",
    "##### We can do this by drawing from a \"pre-generated\" set, which is called a **seed**"
   ]
  },
  {
   "cell_type": "code",
   "execution_count": 48,
   "id": "deb6ea26",
   "metadata": {},
   "outputs": [
    {
     "name": "stdout",
     "output_type": "stream",
     "text": [
      "[5.79215704 1.70047163 3.43621395 7.2226796 ]\n"
     ]
    }
   ],
   "source": [
    "# run this cell 3 times, numbers will always be the same\n",
    "np.random.seed(0)\n",
    "print(np.random.normal(loc = 0.5, scale = 3, size = 4))\n"
   ]
  },
  {
   "cell_type": "code",
   "execution_count": 54,
   "id": "951b4608",
   "metadata": {},
   "outputs": [
    {
     "name": "stdout",
     "output_type": "stream",
     "text": [
      "[-2.35967024 -2.15818152 -3.05627174  6.4943452 ]\n"
     ]
    }
   ],
   "source": [
    "# Choose a different seed by selecting a different non-negative integer in the seed function\n",
    "\n",
    "# run this 3 times\n",
    "np.random.seed(3497) # you can change to different integer like 1, 2, 3, 100, 431, 981423 etc.\n",
    "print(np.random.normal(loc = 0.5, scale = 3, size = 4))"
   ]
  },
  {
   "cell_type": "markdown",
   "id": "a502a373",
   "metadata": {},
   "source": [
    "#### Histogram of 1,000 samples of a standard normal variable"
   ]
  },
  {
   "cell_type": "code",
   "execution_count": 56,
   "id": "fe1c06bb",
   "metadata": {},
   "outputs": [
    {
     "data": {
      "image/png": "[encoded data removed]",
      "text/plain": [
       "<Figure size 640x480 with 1 Axes>"
      ]
     },
     "metadata": {},
     "output_type": "display_data"
    }
   ],
   "source": [
    "import matplotlib.pyplot as plt\n",
    "\n",
    "np.random.seed(1989)\n",
    "\n",
    "sample_size = 1000\n",
    "\n",
    "standard_normal_samples = np.random.normal(size = sample_size)\n",
    "\n",
    "plt.hist(x = standard_normal_samples)\n",
    "plt.show()"
   ]
  },
  {
   "cell_type": "code",
   "execution_count": null,
   "id": "83e7949e",
   "metadata": {},
   "outputs": [],
   "source": []
  }
 ],
 "metadata": {
  "kernelspec": {
   "display_name": "base",
   "language": "python",
   "name": "python3"
  },
  "language_info": {
   "codemirror_mode": {
    "name": "ipython",
    "version": 3
   },
   "file_extension": ".py",
   "mimetype": "text/x-python",
   "name": "python",
   "nbconvert_exporter": "python",
   "pygments_lexer": "ipython3",
   "version": "3.13.5"
  }
 },
 "nbformat": 4,
 "nbformat_minor": 5
}
