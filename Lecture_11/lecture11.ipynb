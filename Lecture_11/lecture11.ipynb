{
 "cells": [
  {
   "cell_type": "markdown",
   "id": "ffc1e2fe",
   "metadata": {},
   "source": [
    "# <span style=\"color:red\"> Lecture 11: Subsetting Data </span>"
   ]
  },
  {
   "cell_type": "markdown",
   "id": "e9e980d3",
   "metadata": {},
   "source": [
    "<font size = \"4\">\n",
    "\n",
    "Topics you should know up to this point:\n",
    "\n",
    "- *Data Types:* int, float, str, lists, arrays,<br>\n",
    "booleans, pandas dataframes\n",
    "\n",
    "- *Numpy:* mathematical functions <br>\n",
    " and random numbers\n",
    "\n",
    "- If/else statements and *loops*\n",
    "\n",
    "If there are any of these topics you need help <br>\n",
    " understanding, don't be afraid to come to office hours!"
   ]
  },
  {
   "cell_type": "markdown",
   "id": "69b69e45",
   "metadata": {},
   "source": [
    "<font size = \"4\">\n",
    "\n",
    "This lecture:\n",
    "\n",
    "- pandas dataframes\n",
    "- subsetting data"
   ]
  },
  {
   "cell_type": "markdown",
   "id": "925190bf",
   "metadata": {},
   "source": [
    "## <span style=\"color:red\"> I. Import Libraries and Read Files</span>"
   ]
  },
  {
   "cell_type": "code",
   "execution_count": null,
   "id": "b672d551",
   "metadata": {},
   "outputs": [],
   "source": [
    "# the \"pandas\" library is for manipualting datasets\n",
    "# the \"matplotlib.pyplot\" library is for creating graphs\n",
    "import pandas as pd\n",
    "import matplotlib.pyplot as plt"
   ]
  },
  {
   "cell_type": "markdown",
   "id": "dee0bfc2",
   "metadata": {},
   "source": [
    "<font size = \"4\">\n",
    "\n",
    "How should I load in the .csv file inside the data_raw folder?"
   ]
  },
  {
   "cell_type": "code",
   "execution_count": null,
   "id": "ad3f4fc7",
   "metadata": {},
   "outputs": [],
   "source": [
    "# Read the car features dataset\n",
    "\n",
    "carfeatures = ..."
   ]
  },
  {
   "cell_type": "code",
   "execution_count": null,
   "id": "13c230bc",
   "metadata": {},
   "outputs": [],
   "source": [
    "type(carfeatures)"
   ]
  },
  {
   "cell_type": "markdown",
   "id": "5bd5b246",
   "metadata": {},
   "source": [
    "## <span style=\"color:red\"> II. Basic data display </span>\n",
    "\n",
    "<font size = \"4\">\n",
    "\n",
    "- Go to the Jupyter Variables tab at the top of the notebook. Then click on icon to the left of \"carfeatures\"\n",
    "- OR type ``print(carfeatures)``\n",
    "- OR simply type ``carfeatures`` as the last line of a cell"
   ]
  },
  {
   "cell_type": "code",
   "execution_count": null,
   "id": "226f1cb8",
   "metadata": {},
   "outputs": [],
   "source": [
    "print(carfeatures)"
   ]
  },
  {
   "cell_type": "code",
   "execution_count": null,
   "id": "7aa1df78",
   "metadata": {},
   "outputs": [],
   "source": [
    "carfeatures"
   ]
  },
  {
   "cell_type": "markdown",
   "id": "dc44b3e9",
   "metadata": {},
   "source": [
    "## <span style=\"color:red\"> III. Extract column/variable names </span>\n",
    "\n",
    "<font size = \"4\">\n",
    "\n",
    "In Homework #2, you manually created a list of column names. Pandas can do that for you"
   ]
  },
  {
   "cell_type": "code",
   "execution_count": null,
   "id": "d63088bb",
   "metadata": {},
   "outputs": [],
   "source": [
    "car_colnames = carfeatures.columns.values\n",
    "print(car_colnames)\n",
    "\n",
    "# Is this a list? A Numpy array? Are you checking what objects are, or just coding \n",
    "# with reckless abandon?\n",
    "\n",
    "print(type(car_colnames))\n",
    "print(type(car_colnames[0]))"
   ]
  },
  {
   "cell_type": "code",
   "execution_count": null,
   "id": "c9d55655",
   "metadata": {},
   "outputs": [],
   "source": [
    "# Just like HW #2, we can use car_colnames to grab columns from the dataset\n",
    "\n",
    "# manually..\n",
    "mpg = carfeatures[\"mpg\"]\n",
    "\n",
    "# using car_colnames\n",
    "mpg_alt = carfeatures[car_colnames[0]]\n",
    "print(mpg)\n",
    "print(mpg_alt)"
   ]
  },
  {
   "cell_type": "code",
   "execution_count": null,
   "id": "95df9aa5",
   "metadata": {},
   "outputs": [],
   "source": [
    "# Did you check the TYPE ?!\n",
    "print(type(mpg))"
   ]
  },
  {
   "cell_type": "markdown",
   "id": "8162d7d5",
   "metadata": {},
   "source": [
    "<font size = \"4\">\n",
    "\n",
    "Grab multiple variables"
   ]
  },
  {
   "cell_type": "code",
   "execution_count": null,
   "id": "be441197",
   "metadata": {},
   "outputs": [],
   "source": [
    "list_subsetcols = [\"weight\",\"mpg\"]\n",
    "subcols_carfeatures = carfeatures[list_subsetcols]\n",
    "\n",
    "print(type(subcols_carfeatures))\n",
    "print(subcols_carfeatures)\n",
    "\n"
   ]
  },
  {
   "cell_type": "code",
   "execution_count": null,
   "id": "d10fdf51",
   "metadata": {},
   "outputs": [],
   "source": [
    "\n",
    "# list_subsetcols = [\"weight\",\"mpg\"] # created a variable list_subsetcols...\n",
    "# subcols_carfeatures = carfeatures[list_subsetcols] # ...just to place it within the brackets\n",
    "\n",
    "# skip the intermediate variable\n",
    "subcols_carfeatures = carfeatures[[\"weight\", \"mpg\"]]\n",
    "print(subcols_carfeatures)\n"
   ]
  },
  {
   "cell_type": "code",
   "execution_count": null,
   "id": "d95a16bf",
   "metadata": {},
   "outputs": [],
   "source": [
    "print(car_colnames[4])\n",
    "print(car_colnames[0])"
   ]
  },
  {
   "cell_type": "code",
   "execution_count": null,
   "id": "966a5b5e",
   "metadata": {},
   "outputs": [],
   "source": [
    "# Use car_colnames plus the indices 4, 0\n",
    "list_subsetcols = [car_colnames[4], car_colnames[0]]\n",
    "subcols_carfeatures = carfeatures[list_subsetcols]\n",
    "print(subcols_carfeatures)\n",
    "\n"
   ]
  },
  {
   "cell_type": "markdown",
   "id": "6696efa1",
   "metadata": {},
   "source": [
    "<font size = \"4\">\n",
    "\n",
    "**Exercise**: Extract the weight and acceleration variables\n",
    "\n",
    "**Exercise**: Extract the displacement, horsepower, and vehicle_id variables"
   ]
  },
  {
   "cell_type": "code",
   "execution_count": null,
   "id": "651f40b9",
   "metadata": {},
   "outputs": [],
   "source": [
    "# try yourself (will add the solution later)\n",
    "\n"
   ]
  },
  {
   "cell_type": "markdown",
   "id": "9aeb5142",
   "metadata": {},
   "source": [
    "## <span style=\"color:red\"> IV. Sort by column/variable </span>"
   ]
  },
  {
   "cell_type": "code",
   "execution_count": null,
   "id": "abb5913b",
   "metadata": {},
   "outputs": [],
   "source": [
    "help(carfeatures.sort_values)"
   ]
  },
  {
   "cell_type": "code",
   "execution_count": null,
   "id": "2d5ee73f",
   "metadata": {},
   "outputs": [],
   "source": [
    "# sort the data-set by one of the variables\n",
    "carsorted = carfeatures.sort_values(by = \"mpg\")\n",
    "print(carsorted)"
   ]
  },
  {
   "cell_type": "code",
   "execution_count": null,
   "id": "7dcc8513",
   "metadata": {},
   "outputs": [],
   "source": [
    "# above we went from lowest mileage to highest mileage (ascending order)\n",
    "# \n",
    "# To reverse the order, pass in the argument ascending = False \n",
    "\n",
    "carsorted = carfeatures.sort_values(by = \"mpg\", ascending = False)\n",
    "print(carsorted)"
   ]
  },
  {
   "cell_type": "markdown",
   "id": "b21170b5",
   "metadata": {},
   "source": [
    "## <span style=\"color:red\"> V. Subsetting by row/column position </span>\n",
    "\n",
    "<font size = \"4\">\n",
    "\n",
    "Each DataFrame has an \"iloc\" method. This stands for \"integer-location based indexing\""
   ]
  },
  {
   "cell_type": "code",
   "execution_count": null,
   "id": "c65af3b2",
   "metadata": {},
   "outputs": [],
   "source": [
    "print(carfeatures)"
   ]
  },
  {
   "cell_type": "code",
   "execution_count": null,
   "id": "c293cef3",
   "metadata": {},
   "outputs": [],
   "source": [
    "# Above, see that car 0 has 18.0 mpg\n",
    "# The value \"18.0\" is in the first row, and corresponds to the first column\n",
    "# (the index column on the left is NOT considered a column/variable)\n",
    "\n",
    "# Since Python starts counting from zero, this is in row 0 column 0\n",
    "\n",
    "car0_mpg = carfeatures.iloc[0,0]\n",
    "print(car0_mpg)"
   ]
  },
  {
   "cell_type": "code",
   "execution_count": null,
   "id": "66343891",
   "metadata": {},
   "outputs": [],
   "source": [
    "# Above, see that car 3 has weight of 3433\n",
    "# Counting from zero, the value \"3433\" is in\n",
    "# row 3, column\n",
    "# The value \"3433\" is in row 3, column 4\n",
    "\n",
    "car3_weight = carfeatures.iloc[3, 4]\n",
    "print(car3_weight)"
   ]
  },
  {
   "cell_type": "code",
   "execution_count": null,
   "id": "b8c4615f",
   "metadata": {},
   "outputs": [],
   "source": [
    "# Let's grab ALL features of car 0 (mpg, cylinders, displacement, ..., vehicle_id)\n",
    "\n",
    "# So we want all the entries along row zero. \n",
    "# Use a \":\" (colon) for the column index to grab ALL the columns\n",
    "\n",
    "car0_features = carfeatures.iloc[0,:]\n",
    "print(car0_features)\n",
    "print(type(car0_features))"
   ]
  },
  {
   "cell_type": "code",
   "execution_count": null,
   "id": "b61f0d60",
   "metadata": {},
   "outputs": [],
   "source": [
    "# Grab all columns of car 3\n",
    "car3_features = carfeatures.iloc[3,:]\n",
    "print(car3_features)"
   ]
  },
  {
   "cell_type": "code",
   "execution_count": null,
   "id": "cdb9cc41",
   "metadata": {},
   "outputs": [],
   "source": [
    "print(carfeatures)"
   ]
  },
  {
   "cell_type": "code",
   "execution_count": null,
   "id": "23f3a2a1",
   "metadata": {},
   "outputs": [],
   "source": [
    "# Column 0 corresponds to \"mpg\" (the index column on the far left doesn't count)\n",
    "\n",
    "# Grab the entire column 0, which means grabbing ALL the rows\n",
    "\n",
    "car_mpg = carfeatures.iloc[:, 0]\n",
    "print(car_mpg)\n"
   ]
  },
  {
   "cell_type": "code",
   "execution_count": null,
   "id": "b989a216",
   "metadata": {},
   "outputs": [],
   "source": [
    "# horsepower is column 3\n",
    "# grab ALL rows of column 3\n",
    "\n",
    "car_horsepower = carfeatures.iloc[:, 3]\n",
    "car_horsepower"
   ]
  },
  {
   "cell_type": "code",
   "execution_count": null,
   "id": "4ffaae12",
   "metadata": {},
   "outputs": [],
   "source": [
    "# Grab all features for cars 0, 4, 396 (so rows 0, 4, 396)\n",
    "\n",
    "cargroup_features = carfeatures.iloc[ [0, 4, 396], : ]\n",
    "print(cargroup_features)\n",
    "print(type(cargroup_features))"
   ]
  },
  {
   "cell_type": "code",
   "execution_count": null,
   "id": "d848ea8a",
   "metadata": {},
   "outputs": [],
   "source": [
    "# Grab all features for cars 0, 4, 396 (so rows 0, 4, 396)\n",
    "\n",
    "group_rows = [0, 4, 396]\n",
    "cargroup_features = carfeatures.iloc[ group_rows, : ]\n",
    "print(cargroup_features)"
   ]
  },
  {
   "cell_type": "code",
   "execution_count": null,
   "id": "42840ee5",
   "metadata": {},
   "outputs": [],
   "source": [
    "# Grab mpg, weight, vehicle_id for ALL cars (columns 0, 4, 6)\n",
    "\n",
    "subfeatures = carfeatures.iloc[ : , [0, 4, 6] ]\n",
    "print(subfeatures)"
   ]
  },
  {
   "cell_type": "code",
   "execution_count": null,
   "id": "f1ae3e7a",
   "metadata": {},
   "outputs": [],
   "source": [
    "# Grab mpg, weight, vehicle_id for ALL cars (columns 0, 4, 6)\n",
    "\n",
    "sub_cols = [0, 4, 6]\n",
    "subfeatures = carfeatures.iloc[ : , sub_cols]\n",
    "print(subfeatures)"
   ]
  },
  {
   "cell_type": "code",
   "execution_count": null,
   "id": "d01204d7",
   "metadata": {},
   "outputs": [],
   "source": [
    "# Grab mpg, weight, vehicle_id for cars 0, 4, 396\n",
    "# So we need rows 0, 4, 396\n",
    "# and columns 0, 4, 6\n",
    "\n",
    "subdata = carfeatures.iloc[ [0, 4, 396], [0, 4, 6] ]\n",
    "print(subdata)"
   ]
  },
  {
   "cell_type": "markdown",
   "id": "26a7baed",
   "metadata": {},
   "source": [
    "### Subsetting blocks of rows"
   ]
  },
  {
   "cell_type": "code",
   "execution_count": null,
   "id": "6da88f3f",
   "metadata": {},
   "outputs": [],
   "source": [
    "# let's grab all features for the first 5 cars\n",
    "# (rows 0, 1, 2, 3, 4)\n",
    "\n",
    "first_5_cars = carfeatures.iloc[ :5, :]\n",
    "print(first_5_cars)"
   ]
  },
  {
   "cell_type": "code",
   "execution_count": null,
   "id": "31206be8",
   "metadata": {},
   "outputs": [],
   "source": [
    "# let's grab all features for the first 5 cars\n",
    "# (rows 0, 1, 2, 3, 4)\n",
    "\n",
    "# we start with row 0\n",
    "# the first row we *exclude* is row 5\n",
    "first_5_cars = carfeatures.iloc[ 0:5, :]\n",
    "print(first_5_cars)"
   ]
  },
  {
   "cell_type": "code",
   "execution_count": null,
   "id": "43c374c7",
   "metadata": {},
   "outputs": [],
   "source": [
    "# if we shift the indices by 1\n",
    "# (change 0:5 --> 1:6)\n",
    "# Then we will grab rows (1,2,3,4,5)\n",
    "\n",
    "cars_1_thru_5 = carfeatures.iloc[ 1:6, :]\n",
    "\n",
    "# we start with row 1\n",
    "# the first row we *exclude* is row 6\n",
    "\n",
    "print(cars_1_thru_5)"
   ]
  },
  {
   "cell_type": "markdown",
   "id": "00bc60d3",
   "metadata": {},
   "source": [
    "<font size = \"4\">\n",
    "\n",
    "Works similarly for blocks of columns, or blocks of both rows and columns\n",
    "\n",
    "**Exercise:** Extract the columns corresponding to displacement, horsepower, and weight for all cars using ``.iloc``. The column indices should be of the form ``start:stop`` for appropriate integers ``start`` and ``stop``\n",
    "\n",
    "**Exercise:** Extract the weight, acceleration, and vehicle_id information for cars 28, 29, 30, 31, 32 using \":\" for both row and column indices"
   ]
  },
  {
   "cell_type": "code",
   "execution_count": null,
   "id": "7656c759",
   "metadata": {},
   "outputs": [],
   "source": [
    "## your answer here\n",
    "\n",
    "\n"
   ]
  },
  {
   "cell_type": "markdown",
   "id": "bbe99918",
   "metadata": {},
   "source": [
    "<font size = \"4\">\n",
    "\n",
    "**Exercise:** Create a dataset ``car_ascendingweight`` which sorts the cars from lowest to highest weight. Then extract the subset of the data corresponding to the 5 cars with the lowest weight (all their features, not just their weight)"
   ]
  },
  {
   "cell_type": "code",
   "execution_count": null,
   "id": "30e6bfc9",
   "metadata": {},
   "outputs": [],
   "source": [
    "# your answer here\n",
    "\n"
   ]
  },
  {
   "cell_type": "markdown",
   "id": "ecf26480",
   "metadata": {},
   "source": [
    "## <span style=\"color:red\"> VI. Filtering Dataframes Based on Logical Expressions </span>"
   ]
  },
  {
   "cell_type": "markdown",
   "id": "27820c4a",
   "metadata": {},
   "source": [
    "<font size = \"4\">\n",
    "\n",
    "(i) Filtering using ```pandas.query()``` \n",
    "\n",
    "```python\n",
    "data.query(\"logical expression\")\n",
    "```"
   ]
  },
  {
   "cell_type": "code",
   "execution_count": null,
   "id": "0a496ad5",
   "metadata": {},
   "outputs": [],
   "source": [
    "high_mileagecars = carfeatures.query(\"mpg >= 25\")\n",
    "print(high_mileagecars)"
   ]
  },
  {
   "cell_type": "code",
   "execution_count": null,
   "id": "6df53e1a",
   "metadata": {},
   "outputs": [],
   "source": [
    "# Use \"and\" / \"or\" for logical operations on queries\n",
    "\n",
    "car_subset = carfeatures.query(\"(acceleration >= 12) and (acceleration < 18)\")\n",
    "print(car_subset)"
   ]
  },
  {
   "cell_type": "markdown",
   "id": "00dd275f",
   "metadata": {},
   "source": [
    "<font size = \"4\">\n",
    "\n",
    "(ii) Expressions with colnames + global variables (@)"
   ]
  },
  {
   "cell_type": "code",
   "execution_count": null,
   "id": "e0d35e3a",
   "metadata": {},
   "outputs": [],
   "source": [
    "# You can invoke global variables into the query by using @variablename\n",
    "# If you don't include @, then Python will try to look for a column with \n",
    "# that name.\n",
    "\n",
    "threshold = 25\n",
    "high_mileagecars = carfeatures.query(\"mpg >= @threshold\")\n",
    "print(high_mileagecars)"
   ]
  },
  {
   "cell_type": "code",
   "execution_count": null,
   "id": "e215e8ac",
   "metadata": {},
   "outputs": [],
   "source": [
    "lb = 12\n",
    "ub = 18\n",
    "\n",
    "car_subset = carfeatures.query(\"(acceleration >= @lb) and (acceleration < @ub)\")\n",
    "print(car_subset)"
   ]
  },
  {
   "cell_type": "markdown",
   "id": "75e8d70a",
   "metadata": {},
   "source": [
    "<font size = \"4\">\n",
    "\n",
    "(iii) Handling white space\n",
    "\n",
    "Ever wonder why I give folders names like \"Lecture_11\" instead of \"Lecture 11\"? Or name notebooks things like \"Lecture9.ipynb\" instead of \"Lecture 9.ipynb\"?\n",
    "\n",
    "Because handling white spaces on a computer can be annoying in certain situations, as we will see here:"
   ]
  },
  {
   "cell_type": "code",
   "execution_count": null,
   "id": "fef2a694",
   "metadata": {},
   "outputs": [],
   "source": [
    "# same data set, but column/variable 0 is \"miles per gallon\" instead of \"mpg\"\n",
    "\n",
    "new_dset = pd.read_csv(\"data_raw/subfolder1/annoying_subfolder/features-bad-spacing.csv\")\n",
    "print(new_dset)"
   ]
  },
  {
   "cell_type": "code",
   "execution_count": null,
   "id": "5fda8ad5",
   "metadata": {},
   "outputs": [],
   "source": [
    "data_threshold_horsepower = new_dset.query(\"miles per gallon >= 20\")"
   ]
  },
  {
   "cell_type": "markdown",
   "id": "25df8f1d",
   "metadata": {},
   "source": [
    "<font size = \"4\">\n",
    "\n",
    "Pretty scary looking error message...basically, it doesn't like the space (variable names can't have spaces in Python)\n",
    "\n",
    "We've seen the double quote (\") and the single quote (')\n",
    "\n",
    "To the left of your 1 key is the backtick/grave accent (`). Need to use this"
   ]
  },
  {
   "cell_type": "code",
   "execution_count": null,
   "id": "829d6141",
   "metadata": {},
   "outputs": [],
   "source": [
    "# next line causes error\n",
    "# data_threshold_horsepower = new_dset.query(\"miles per gallon >= 20\")\n",
    "\n",
    "# this next line is fine\n",
    "data_threshold_horsepower = new_dset.query(\"`miles per gallon` >= 20\")\n",
    "print(data_threshold_horsepower)"
   ]
  },
  {
   "cell_type": "markdown",
   "id": "f1deaf4b",
   "metadata": {},
   "source": [
    "<font size = \"4\">\n",
    "\n",
    "**Exercise:** Subset the data, gathering all cars with exactly 8 cylinders and mpg $\\ge$ 25.\n"
   ]
  },
  {
   "cell_type": "code",
   "execution_count": null,
   "id": "6ad20a1d",
   "metadata": {},
   "outputs": [],
   "source": [
    "# Your solution here\n",
    "\n",
    "\n"
   ]
  },
  {
   "cell_type": "markdown",
   "id": "d46a3d21",
   "metadata": {},
   "source": [
    "## <span style=\"color:red\"> VII. Application: Visualizing Subsets of the Data </span>\n",
    "\n",
    "<font size = \"4\">\n",
    "\n",
    "List of unique categories"
   ]
  },
  {
   "cell_type": "code",
   "execution_count": null,
   "id": "427b4712",
   "metadata": {},
   "outputs": [],
   "source": [
    "# Use pd.unique() to extract a numpy array with the unique elements in that column\n",
    "\n",
    "array_unique_cylinders = pd.unique(carfeatures[\"cylinders\"])\n",
    "print(array_unique_cylinders)\n",
    "print(type(array_unique_cylinders))"
   ]
  },
  {
   "cell_type": "markdown",
   "id": "0c5eeced",
   "metadata": {},
   "source": [
    "<font size = \"4\">\n",
    "\n",
    "Compute two overlapping plots"
   ]
  },
  {
   "cell_type": "code",
   "execution_count": null,
   "id": "8133a3f9",
   "metadata": {},
   "outputs": [],
   "source": [
    "# If we call plt.scatter() twice to display two plots\n",
    "# To display all plots simultaneously we include plt.show() at the very end.\n",
    "# The idea is that the graphs are stacked on top of each other\n",
    "\n",
    "df_8 = carfeatures.query(\"cylinders == 8\")\n",
    "df_4 = carfeatures.query(\"cylinders == 4\")\n",
    "\n",
    "plt.scatter(x = df_8[\"weight\"],y = df_8[\"acceleration\"])\n",
    "plt.scatter(x = df_4[\"weight\"],y = df_4[\"acceleration\"])\n",
    "plt.legend(labels = [\"8\",\"4\"],\n",
    "           title  = \"Cylinders\")\n",
    "\n",
    "plt.xlabel(\"Weight\")\n",
    "plt.ylabel(\"Acceleration\")\n",
    "plt.show()\n",
    "\n",
    "# Note: If we put plt.show() in between the plots, then the results will\n",
    "# be shown on separate graphs instead."
   ]
  },
  {
   "cell_type": "markdown",
   "id": "3bb1c53d",
   "metadata": {},
   "source": [
    "<font size = \"4\">\n",
    "\n",
    "Compute plots by all categories"
   ]
  },
  {
   "cell_type": "code",
   "execution_count": null,
   "id": "9db40b3d",
   "metadata": {},
   "outputs": [],
   "source": [
    "# Compute number of unique categories\n",
    "list_unique_cylinders = pd.unique(carfeatures[\"cylinders\"])\n",
    "\n",
    "# Use a for loop to plot a scatter plot between \"weight\" and \"acceleration\"\n",
    "# for each category. Each plot  will have a different color\n",
    "\n",
    "for category in list_unique_cylinders:\n",
    "    df   = carfeatures.query(\"cylinders == @category\")\n",
    "    plt.scatter(x = df[\"weight\"], y = df[\"acceleration\"])\n",
    "    \n",
    "# Add labels and a legends    \n",
    "plt.xlabel(\"Weight\")\n",
    "plt.ylabel(\"Acceleration\")\n",
    "plt.legend(labels = list_unique_cylinders,\n",
    "           title  = \"Cylinders\")\n",
    "plt.show()"
   ]
  },
  {
   "cell_type": "markdown",
   "id": "0ead2815",
   "metadata": {},
   "source": [
    "<font size=\"4\">\n",
    "\n",
    "**Exercise:** Compute a histogram of \"mpg\" by cylinder count for cars with 4, 6, and 8 cylinders.Here is what it might look like (using a fake dataset):\n",
    "\n",
    "<img src=\"data_raw/fake_histogram.png\" alt=\"drawing\" width=\"400\"/>\n",
    "\n",
    "\n",
    "You can make the histograms transparent by adjusting ```alpha``` in\n",
    "\n",
    "```python\n",
    "    plt.hist(x = ..., alpha = 0.5)\n",
    "```"
   ]
  },
  {
   "cell_type": "code",
   "execution_count": null,
   "id": "b41a906e",
   "metadata": {},
   "outputs": [],
   "source": [
    "# your code here\n",
    "\n"
   ]
  },
  {
   "cell_type": "code",
   "execution_count": null,
   "id": "155f46ac",
   "metadata": {},
   "outputs": [],
   "source": []
  }
 ],
 "metadata": {
  "kernelspec": {
   "display_name": "base",
   "language": "python",
   "name": "python3"
  },
  "language_info": {
   "codemirror_mode": {
    "name": "ipython",
    "version": 3
   },
   "file_extension": ".py",
   "mimetype": "text/x-python",
   "name": "python",
   "nbconvert_exporter": "python",
   "pygments_lexer": "ipython3",
   "version": "3.13.5"
  }
 },
 "nbformat": 4,
 "nbformat_minor": 5
}
