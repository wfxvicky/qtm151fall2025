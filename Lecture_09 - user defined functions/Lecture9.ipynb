{
 "cells": [
  {
   "attachments": {},
   "cell_type": "markdown",
   "metadata": {},
   "source": [
    "# <span style=\"color:red\"> Lecture 9: User-defined Functions </span>"
   ]
  },
  {
   "attachments": {},
   "cell_type": "markdown",
   "metadata": {},
   "source": [
    "## <span style=\"color:red\"> I. Import Libraries </span>"
   ]
  },
  {
   "cell_type": "code",
   "execution_count": null,
   "metadata": {},
   "outputs": [],
   "source": [
    "# the \"numPy\" library is used for mathematical operations\n",
    "# the \"matplotlib\" library is for generating graphs\n",
    "# the \"pandas\" library is for manipualting datasets\n",
    "\n",
    "import numpy as np\n",
    "import matplotlib.pyplot as plt\n",
    "import pandas as pd"
   ]
  },
  {
   "attachments": {},
   "cell_type": "markdown",
   "metadata": {},
   "source": [
    "## <span style=\"color:red\"> II. Recap of Functions </span>"
   ]
  },
  {
   "attachments": {},
   "cell_type": "markdown",
   "metadata": {},
   "source": [
    "<font size=\"4\"> \n",
    "\n",
    "A function is ...\n",
    "\n",
    "- A **block of reusable** code to perform a specific task\n",
    "- Functions avoid repetition\n",
    "- As our code grows larger, functions make it more manageable\n",
    "\n"
   ]
  },
  {
   "attachments": {},
   "cell_type": "markdown",
   "metadata": {},
   "source": [
    "<font size=\"4\"> \n",
    "\n",
    "\"Built-in\" functions are those from Python libraries, e.g.\n",
    "\n",
    "```print()```, ```type()```, ```round()```,```abs()```, ```len()```\n",
    "\n",
    "\n",
    "- Inputs are known as \"arguments\"\n",
    "- Outputs are known as \"return values\"\n"
   ]
  },
  {
   "cell_type": "code",
   "execution_count": null,
   "metadata": {},
   "outputs": [],
   "source": [
    "### Function: type\n",
    "\n",
    "# Argument: a Python object\n",
    "# Return value: the type or class of the object\n",
    "\n",
    "# Here, the float 3.14 is the argument\n",
    "# We assign the return value to a variable we call q\n",
    "q = type(3.14)\n",
    "print(q)"
   ]
  },
  {
   "cell_type": "code",
   "execution_count": null,
   "metadata": {},
   "outputs": [],
   "source": [
    "# we can also assign 3.14 to a variable, then use this as the argument:\n",
    "\n",
    "my_num = 3.14\n",
    "qqqq = type(my_num)\n",
    "print(qqqq)"
   ]
  },
  {
   "cell_type": "code",
   "execution_count": null,
   "metadata": {},
   "outputs": [],
   "source": [
    "# Here, we don't assign the return value to a variable, we just print it\n",
    "\n",
    "my_string = \"October 1\"\n",
    "print(type(my_string))"
   ]
  },
  {
   "cell_type": "code",
   "execution_count": null,
   "metadata": {},
   "outputs": [],
   "source": [
    "#### Function: abs\n",
    "\n",
    "# Argument: a single number (integer or floating point)\n",
    "# Return value: a single number, which is the absolute value of the argument\n",
    "\n",
    "t = abs(-3)\n",
    "\n",
    "y = 2.2\n",
    "s = abs(y)\n",
    "\n",
    "print(s)\n",
    "print(t)\n",
    "print(abs(-10))\n"
   ]
  },
  {
   "cell_type": "code",
   "execution_count": null,
   "metadata": {},
   "outputs": [],
   "source": [
    "#### Function: len\n",
    "\n",
    "# Argument: An \"appropriate\" python object (like a list, numpy array, or a string)\n",
    "# Return value: How many items are in the object\n",
    "\n",
    "my_argument = [1.0, \"Hi\", \"2025\"]\n",
    "my_return_val = len(my_argument)\n",
    "print(my_return_val)\n",
    "\n",
    "str_1 = \"Peter\"\n",
    "str_2 = \"Peter \"\n",
    "num_letters = len(str_1)\n",
    "print(num_letters)\n",
    "print(len(str_2))"
   ]
  },
  {
   "cell_type": "code",
   "execution_count": null,
   "metadata": {},
   "outputs": [],
   "source": [
    "# An \"inappropriate\" object for len would be a single number:\n",
    "\n",
    "my_arg = 2\n",
    "print(len(my_arg))"
   ]
  },
  {
   "cell_type": "code",
   "execution_count": null,
   "metadata": {},
   "outputs": [],
   "source": [
    "#### Function: str\n",
    "\n",
    "# Argument: Object\n",
    "# Return value: Object converted to string\n",
    "\n",
    "neg_num = -3\n",
    "pos_num = abs(neg_num)\n",
    "out_1 = str(pos_num)\n",
    "\n",
    "out_2 = str(abs(neg_num) + 5)\n",
    "\n",
    "print(out_1)\n",
    "print(out_2)"
   ]
  },
  {
   "cell_type": "code",
   "execution_count": null,
   "metadata": {},
   "outputs": [],
   "source": [
    "##### Function: round\n",
    "\n",
    "# TWO arguments: one is optional.\n",
    "# Argument 1: (required) a number\n",
    "# Argument 2: (optional) number of digits to round to\n",
    "\n",
    "# Return value: the rounded number. \n",
    "# (If the 2nd argument is omitted, rounded to an integer)\n",
    "\n",
    "z = round(3.1415)\n",
    "print(z)\n",
    "\n",
    "zzz = round(3.1415, 3)\n",
    "print(zzz)\n",
    "\n"
   ]
  },
  {
   "cell_type": "code",
   "execution_count": null,
   "metadata": {},
   "outputs": [],
   "source": [
    "# The arguments of round are \"named\"\n",
    "help(round)"
   ]
  },
  {
   "cell_type": "code",
   "execution_count": null,
   "metadata": {},
   "outputs": [],
   "source": [
    "# Valid ways of calling the round function\n",
    "z1 = round(3.1415, 3)\n",
    "z2 = round(3.1415, ndigits=3)\n",
    "z3 = round(number=3.1415, ndigits=3)\n",
    "\n",
    "# invalid_output = round(number = 3.1415, 3) ## INVALID\n",
    "\n",
    "print(z1)\n",
    "print(z2)\n",
    "print(z3)"
   ]
  },
  {
   "cell_type": "code",
   "execution_count": null,
   "metadata": {},
   "outputs": [],
   "source": [
    "my_num = 3.1415\n",
    "digits_I_want_to_keep = 3\n",
    "\n",
    "z4 = round(my_num, digits_I_want_to_keep)\n",
    "z5 = round(my_num, ndigits=digits_I_want_to_keep)\n",
    "z6 = round(number=my_num, ndigits=digits_I_want_to_keep)\n",
    "\n",
    "print(z4)\n",
    "print(z5)\n",
    "print(z6)"
   ]
  },
  {
   "cell_type": "code",
   "execution_count": null,
   "metadata": {},
   "outputs": [],
   "source": [
    "##### Function: print\n",
    "\n",
    "# Argument(s): 1 or more Python object. \n",
    "# (If more than one object, separate them by commas)\n",
    "\n",
    "# Return values: None\n",
    "\n",
    "t = print(\"Today\", \"is\", \"October\", 1)\n",
    "print(t)"
   ]
  },
  {
   "cell_type": "markdown",
   "metadata": {},
   "source": [
    "## <span style=\"color:red\"> III. What is a function? </span>\n",
    "\n",
    "<font size = \"4\">\n",
    "\n",
    "- In math, we are used to thinking of functions as formulas applied to single numbers like:\n",
    "$$ y = f(x) = 2x + 1 $$\n",
    "- This function could also be written as:\n",
    "$$ f: x \\mapsto y = 2x + 1$$\n",
    "- In general, we can view a function as a process where we take a certain number of inputs, perform some tasks or computations with them, and return 1 or more outputs\n",
    "\n",
    "\n",
    "Some examples:\n",
    "- A function determining a country's GDP in 2023\n",
    "    $$ f : \\textrm{country} \\mapsto \\textrm{country's 2023 GDP in U.S. dollars}$$\n",
    "    - $f(\\textrm{United States}) = \\textrm{\\$ 27.7 trillion}$\n",
    "    - $f(\\textrm{Denmark}) = \\textrm{\\$ 407 billion}$\n",
    "- A function that takes in a book's ISBN and returns its title:\n",
    "\n",
    "    - $g(\\textrm{979-8-37-616182-1}) = \\textrm{Python Programming for Beginners}$\n",
    "\n",
    "    - $g(\\textrm{978-0-91-022751-3}) = \\textrm{Autobiography of Malcolm X}$\n",
    "\n",
    "Both of these examples have only 1 input and 1 output\n"
   ]
  },
  {
   "cell_type": "markdown",
   "metadata": {},
   "source": [
    "<font size = \"4\">\n",
    "\n",
    "Here is a very familiar example of a function. When you are told \"Find the roots of the equation $ax^2 + bx + c = 0$\", you are being instructed to compute the function\n",
    "\n",
    "$$ q: (a, b, c) \\mapsto (x_+, x_-)$$\n",
    "\n",
    "Where the outputs $x_+$ and $x_-$ are defined using the quadratic formula:\n",
    "\n",
    "$$ x_+ = \\frac{-b + \\sqrt{b^2 - 4ac}}{2a},\\quad x_- = \\frac{-b - \\sqrt{b^2 - 4ac}}{2a}$$"
   ]
  },
  {
   "cell_type": "markdown",
   "metadata": {},
   "source": [
    "## <span style=\"color:red\"> IV. Custom Functions </span>\n",
    "\n",
    "<font size = \"4\">\n",
    "\n",
    "There is no built-in \"quadratic formula\" function in Python. But we can create one ourselves!\n",
    "\n",
    "Similar to loops, sometimes it helps to plan things out before creating the function"
   ]
  },
  {
   "cell_type": "code",
   "execution_count": null,
   "metadata": {},
   "outputs": [],
   "source": [
    "##### plan out the function\n",
    "\n",
    "# inputs: a,b,c\n",
    "# pick 3 possible values for the inputs\n",
    "a = 2\n",
    "b = -4\n",
    "c = -30\n",
    "############# beginning of function ###############\n",
    "\n",
    "# perform necessary steps here\n",
    "\n",
    "############# end of function ###############\n",
    "\n",
    "# outputs: x_plus, x_minus\n",
    "# print out the values\n",
    "print(x_plus)\n",
    "print(x_minus)"
   ]
  },
  {
   "attachments": {},
   "cell_type": "markdown",
   "metadata": {},
   "source": [
    "<font size = \"4\">\n",
    "\n",
    "Now, let's create a function which computes the quadratic formula. We can name it whatever we like, but something sensible and descriptive is best"
   ]
  },
  {
   "cell_type": "code",
   "execution_count": null,
   "metadata": {},
   "outputs": [],
   "source": [
    "# define quadratic formula function\n",
    "\n",
    "def quadratic_formula(a, b, c):\n",
    "    # copy and paste code from above cell\n",
    "\n",
    "\n",
    "    return x_plus, x_minus"
   ]
  },
  {
   "cell_type": "code",
   "execution_count": null,
   "metadata": {},
   "outputs": [],
   "source": [
    "# now run the function using inputs\n",
    "\n",
    "# 3(x - 1)(x - 2) = 3x^2 - 9x + 6\n",
    "\n",
    "a = 3\n",
    "b = -9\n",
    "c = 6\n",
    "\n",
    "x_plus, x_minus = quadratic_formula(a, b, c)\n",
    "print(x_plus)\n",
    "print(x_minus)"
   ]
  },
  {
   "cell_type": "code",
   "execution_count": null,
   "metadata": {},
   "outputs": [],
   "source": [
    "# Name of Inputs don't matter!!!\n",
    "\n",
    "coeff_1 = 3\n",
    "coeff_2 = -9\n",
    "coeff_3 = 6\n",
    "\n",
    "x_plus, x_minus = quadratic_formula(coeff_1, coeff_2, coeff_3)\n",
    "print(x_plus)\n",
    "print(x_minus)"
   ]
  },
  {
   "cell_type": "code",
   "execution_count": null,
   "metadata": {},
   "outputs": [],
   "source": [
    "# You can use the keywords when calling the function\n",
    "\n",
    "coeff_1 = 3\n",
    "coeff_2 = -9\n",
    "coeff_3 = 6\n",
    "\n",
    "x_plus, x_minus = quadratic_formula(a = coeff_1, b = coeff_2, c = coeff_3)\n",
    "print(x_plus)\n",
    "print(x_minus)\n",
    "print()\n",
    "x_plus, x_minus = quadratic_formula(a = 3, b = -9, c = 6)\n",
    "print(x_plus)\n",
    "print(x_minus)\n",
    "print()\n",
    "x_plus, x_minus = quadratic_formula(3, -9, 6)\n",
    "print(x_plus)\n",
    "print(x_minus)"
   ]
  },
  {
   "cell_type": "code",
   "execution_count": null,
   "metadata": {},
   "outputs": [],
   "source": [
    "# You do not have to use the same name when assigning return values!\n",
    "\n",
    "coeff_1 = 3\n",
    "coeff_2 = -9\n",
    "coeff_3 = 6\n",
    "\n",
    "root_with_plus, root_with_minus = quadratic_formula(coeff_1, coeff_2, coeff_3)\n",
    "print(root_with_plus)\n",
    "print(root_with_minus)"
   ]
  },
  {
   "attachments": {},
   "cell_type": "markdown",
   "metadata": {},
   "source": [
    "<font size = \"3\">\n",
    "\n",
    "In general functions take the form:\n",
    "\n",
    "```python\n",
    "\n",
    "    #---- DEFINE\n",
    "    def my_function(parameter):\n",
    "        body\n",
    "        return expression\n",
    "\n",
    "    #---- RUN\n",
    "    my_function(parameter = argument) \n",
    "\n",
    "    #---- RUN\n",
    "    my_function(argument)\n",
    "```\n",
    "<br>\n",
    "\n",
    "For multiple arguments or multiple return values:\n",
    "```python\n",
    "\n",
    "    #---- DEFINE\n",
    "    def my_function(parameter1, parameter2, parameter3):\n",
    "        body\n",
    "        return expression1, expression2\n",
    "\n",
    "    #---- RUN\n",
    "    my_function(parameter1 = arg1, parameter2 = arg2, parameter3 = arg3) \n",
    "\n",
    "    #---- RUN\n",
    "    my_function(arg1, arg2, arg3)\n",
    "```\n",
    "<br>"
   ]
  },
  {
   "cell_type": "markdown",
   "metadata": {},
   "source": [
    "## <span style=\"color:red\"> V. Local vs. Global Variables </span>\n",
    "\n",
    "<font size = \"4\">\n",
    "\n",
    "All variables created inside the function that are not returned are **local variables**. They are **not** created in your workspace (those are **global variables**)\n",
    "\n",
    "**Restart** this notebook, and then run the following 2 cells. Then check the existing Jupyter variables\n"
   ]
  },
  {
   "cell_type": "code",
   "execution_count": null,
   "metadata": {},
   "outputs": [],
   "source": [
    "\n",
    "# import libraries\n",
    "import numpy as np\n",
    "import matplotlib.pyplot as plt\n",
    "import pandas as pd\n",
    "\n",
    "# create function\n",
    "def quadratic_formula(a, b, c):\n",
    "    discriminant = b**2 - 4*a*c\n",
    "    sqrt_d = np.sqrt(discriminant)\n",
    "    numer_plus = -b + sqrt_d\n",
    "    numer_minus = -b - sqrt_d\n",
    "    denom = 2*a\n",
    "\n",
    "    x_plus = numer_plus/denom\n",
    "    x_minus = numer_minus/denom\n",
    "    \n",
    "    return x_plus, x_minus"
   ]
  },
  {
   "cell_type": "code",
   "execution_count": null,
   "metadata": {},
   "outputs": [],
   "source": [
    "coeff_1 = 3\n",
    "coeff_2 = -9\n",
    "coeff_3 = 6\n",
    "\n",
    "root_with_plus, root_with_minus = quadratic_formula(coeff_1, coeff_2, coeff_3)\n",
    "print(root_with_plus)\n",
    "print(root_with_minus)"
   ]
  },
  {
   "cell_type": "code",
   "execution_count": null,
   "metadata": {},
   "outputs": [],
   "source": [
    "# There is no unique way of creating a function!\n",
    "\n",
    "# These functions are all equivalent\n",
    "\n",
    "def quad_f1(a, b, c):\n",
    "    sqrt_d = np.sqrt(b**2 - 4*a*c) # compute sqrt of discriminant right away\n",
    "\n",
    "    x_plus = -b + sqrt_d\n",
    "    x_minus = -b - sqrt_d\n",
    "\n",
    "    # divide x_plus and x_minus by 2*a, overwriting their values\n",
    "\n",
    "    x_plus = x_plus/(2*a) # don't forget parentheses!!!\n",
    "    x_minus = x_minus/(2*a)\n",
    "    return x_plus, x_minus\n",
    "\n",
    "\n",
    "def quad_f2(a, b, c):\n",
    "    sqrt_d = np.sqrt(b**2 - 4*a*c)\n",
    "    numer_plus = -b + sqrt_d\n",
    "    numer_minus = -b - sqrt_d\n",
    "\n",
    "    return numer_plus/(2*a), numer_minus/(2*a)\n",
    "\n",
    "def quad_f3(a, b, c):\n",
    "    sqrt_d = np.sqrt(b**2 - 4*a*c)\n",
    "    return (-b + sqrt_d)/(2*a), (-b - sqrt_d)/(2*a)\n",
    "\n",
    "# Would not recommend this one...\n",
    "def quad_f4(a,b,c):\n",
    "    return (-b + np.sqrt(b**2 - 4*a*c))/(2*a), (-b - np.sqrt(b**2 - 4*a*c))/(2*a)"
   ]
  },
  {
   "attachments": {},
   "cell_type": "markdown",
   "metadata": {},
   "source": [
    "## <span style=\"color:red\"> VI. Lambda Functions </span>\n",
    "\n",
    "<font size = \"5\">\n",
    "\n",
    "\"Lambda Functions\" are defined in one line:\n",
    "\n",
    "```python\n",
    "my_function = lambda parameters: expression\n",
    "```"
   ]
  },
  {
   "attachments": {},
   "cell_type": "markdown",
   "metadata": {},
   "source": [
    "<font size = \"5\">\n",
    "\n",
    "Example: Calculate $x + y + z$"
   ]
  },
  {
   "cell_type": "code",
   "execution_count": null,
   "metadata": {},
   "outputs": [],
   "source": [
    "# First, we'll do it the \"standard way\". Two different versions\n",
    "\n",
    "def sum_xyz(x, y, z):\n",
    "    out = x + y + z\n",
    "    return out \n",
    "\n",
    "def sum_xyz_v2(x, y, z):\n",
    "    return x + y + z\n",
    "\n",
    "# run the functions\n",
    "my_var = sum_xyz(5, 3, 12)\n",
    "print(my_var)\n",
    "print(sum_xyz(5, 3, 12))\n",
    "print(sum_xyz_v2(5, 3, 12))"
   ]
  },
  {
   "cell_type": "code",
   "execution_count": null,
   "metadata": {},
   "outputs": [],
   "source": [
    "# using \"lambda\" keyword, define a function in one line\n",
    "fn_sum = lambda x,y,z: x + y + z\n",
    "\n",
    "# run the function\n",
    "my_sum = fn_sum(5, 3, 12)\n",
    "print(my_sum)"
   ]
  },
  {
   "cell_type": "code",
   "execution_count": null,
   "metadata": {},
   "outputs": [],
   "source": [
    "print(fn_sum(x = 5, y = 3, z = 12))"
   ]
  },
  {
   "cell_type": "markdown",
   "metadata": {},
   "source": [
    "## <span style=\"color:red\"> VII. Pandas.apply() </span>"
   ]
  },
  {
   "cell_type": "code",
   "execution_count": null,
   "metadata": {},
   "outputs": [],
   "source": [
    "carfeatures = pd.read_csv(\"data/features.csv\")\n",
    "\n",
    "car_mpg = carfeatures['mpg']\n",
    "\n",
    "# can we convert miles per gallon into kilometers per liter?\n",
    "\n",
    "# 1 mile = 1.609344 kilometers\n",
    "# 1 gallon = 3.785411784 liters\n",
    "\n",
    "# 18 miles per gallon = 18 * 1.609344 / 3.785411784 kilometers per liter\n",
    "\n",
    "print(\"Car 0 mileage (miles per gallon):\", car_mpg[0])\n",
    "print(\"Car 0 mileage (kilometers per liter):\", car_mpg[0]*1.609344/3.785411784)\n"
   ]
  },
  {
   "cell_type": "code",
   "execution_count": null,
   "metadata": {},
   "outputs": [],
   "source": [
    "# create a function\n",
    "\n",
    "def convert_mpg_to_kmpL(mpg_val):\n",
    "    return mpg_val*1.609344/3.785411784\n",
    "\n",
    "car_kmpL = car_mpg.apply(convert_mpg_to_kmpL)\n",
    "\n",
    "# rename heading\n",
    "car_kmpL.name = \"km per liter\"\n"
   ]
  },
  {
   "cell_type": "code",
   "execution_count": null,
   "metadata": {},
   "outputs": [],
   "source": [
    "# or use a Lambda function:\n",
    "fn_convert = lambda mpg: mpg*1.609344/3.785411784\n",
    "\n",
    "car_kmpL = car_mpg.apply(fn_convert)\n",
    "\n",
    "# rename heading\n",
    "car_kmpL.name = \"km per liter\""
   ]
  },
  {
   "cell_type": "code",
   "execution_count": null,
   "metadata": {},
   "outputs": [],
   "source": [
    "# Use Lambda function that also rounds to 2 decimal places\n",
    "fn_convert_2digits = lambda mpg: round(mpg*1.609344/3.785411784, 2)\n",
    "\n",
    "car_kmpL = car_mpg.apply(fn_convert_2digits)\n",
    "\n",
    "# rename heading\n",
    "car_kmpL.name = \"km per liter\""
   ]
  },
  {
   "cell_type": "code",
   "execution_count": null,
   "metadata": {},
   "outputs": [],
   "source": [
    "# Name of inputs DON'T MATTER\n",
    "\n",
    "fn_convert_to_kmL = lambda my_dumb_variable_name: my_dumb_variable_name*1.609344/3.785411784\n",
    "\n",
    "car_kmpL = car_mpg.apply(fn_convert_2digits)\n",
    "\n",
    "# rename heading\n",
    "car_kmpL.name = \"km per liter\""
   ]
  },
  {
   "cell_type": "markdown",
   "metadata": {},
   "source": [
    "<font size = \"5\">\n",
    "\n",
    "One more example: let's use Pandas.apply() with a function that returns a Boolean value"
   ]
  },
  {
   "cell_type": "code",
   "execution_count": null,
   "metadata": {},
   "outputs": [],
   "source": [
    "def check_low_mileage(mpg):\n",
    "    if mpg < 20:\n",
    "        return True\n",
    "    else:\n",
    "        return False\n",
    "\n",
    "car_lo_mileage = car_mpg.apply(check_low_mileage)\n",
    "car_lo_mileage.name = \"Low mileage\""
   ]
  },
  {
   "cell_type": "code",
   "execution_count": null,
   "metadata": {},
   "outputs": [],
   "source": [
    "# lambda version\n",
    "fn_mileage = lambda mpg: (mpg < 20)\n",
    "\n",
    "car_lo_mileage_lambda = car_mpg.apply(check_low_mileage)\n",
    "car_lo_mileage_lambda.name = \"Low mileage\""
   ]
  },
  {
   "cell_type": "markdown",
   "metadata": {},
   "source": [
    "## <span style=\"color:red\"> VIII. Functions with no output </span>\n",
    "\n",
    "<font size = 3>\n",
    "\n",
    "We already saw a function with no output: the ``print`` function. There are other cases where a useful function can be created without any return values."
   ]
  },
  {
   "cell_type": "code",
   "execution_count": null,
   "metadata": {},
   "outputs": [],
   "source": [
    "# Define a function which creates a red histogram\n",
    "def red_histogram(vec_x, xlabel, title):\n",
    "    plt.hist(x = vec_x, color = \"red\")\n",
    "    plt.title(title)\n",
    "    plt.ylabel(\"Frequency\")\n",
    "    plt.xlabel(xlabel)\n",
    "    plt.show()"
   ]
  },
  {
   "cell_type": "code",
   "execution_count": null,
   "metadata": {},
   "outputs": [],
   "source": [
    "carfeatures = pd.read_csv(\"data/features.csv\")\n",
    "\n",
    "# no assignment to a variable necessary\n",
    "red_histogram(vec_x = carfeatures[\"weight\"], xlabel = \"Weights\",\n",
    "title = \"Weights in the Car Feature Dataset\")\n",
    "\n",
    "# call the function again to generate a 2nd plot"
   ]
  },
  {
   "cell_type": "code",
   "execution_count": null,
   "metadata": {},
   "outputs": [],
   "source": [
    "carfeatures = pd.read_csv(\"data/features.csv\")\n",
    "\n",
    "# no assignment to a variable necessary\n",
    "red_histogram(vec_x = carfeatures[\"weight\"], xlabel = \"Weights\",\n",
    "title = \"Weights in the Car Feature Dataset\")\n",
    "\n",
    "# call the function again to generate a 2nd plot\n",
    "red_histogram(vec_x = carfeatures[\"acceleration\"], xlabel = \"Acceleration\",\n",
    "title = \"Acceleration of Different Cars\")"
   ]
  },
  {
   "cell_type": "markdown",
   "metadata": {},
   "source": [
    "## <span style=\"color:red\"> Exercises </span>"
   ]
  },
  {
   "cell_type": "markdown",
   "metadata": {},
   "source": [
    "<font size = \"3\">\n",
    "\n",
    "If we invest $P$ dollars in an account with interest rate $r$, compounded $n$ times yearly, then after $t$ years the account is worth:\n",
    "\n",
    "$$V=P\\left(1+{\\frac {r}{n}}\\right)^{nt}$$\n",
    "\n",
    "Write a custom function that takes in the values of $P$, $r$, $n$, and $t$ and returns the final value $V$.\n",
    "\n",
    "**Note**: For this formula, if the interest rate is 3%, then we would have $r = 0.03$"
   ]
  },
  {
   "cell_type": "code",
   "execution_count": null,
   "metadata": {},
   "outputs": [],
   "source": [
    "# your code here\n",
    "\n"
   ]
  },
  {
   "cell_type": "markdown",
   "metadata": {},
   "source": [
    "<font size = \"3\">\n",
    "\n",
    "Using your function, evaluate and print the final value if you invest $100$ dollars in an account with 1% interest rate, compounded 20 times a year, for 10 years "
   ]
  },
  {
   "cell_type": "code",
   "execution_count": null,
   "metadata": {},
   "outputs": [],
   "source": [
    "# your code here\n",
    "\n"
   ]
  },
  {
   "cell_type": "markdown",
   "metadata": {},
   "source": [
    "<font size = \"3\">\n",
    "\n",
    "Using your function, evaluate and print the final value if you invest $1000$ dollars in an account with 5% interest rate, compounded 35 times a year, for 15 years"
   ]
  },
  {
   "cell_type": "code",
   "execution_count": null,
   "metadata": {},
   "outputs": [],
   "source": [
    "# your code here\n",
    "\n"
   ]
  },
  {
   "cell_type": "markdown",
   "metadata": {},
   "source": [
    "<font size = \"3\">\n",
    "\n",
    "Write a function that calculates <br>\n",
    " $f(x,y) = y+ x^2 + 2x + 1$."
   ]
  },
  {
   "cell_type": "code",
   "execution_count": null,
   "metadata": {},
   "outputs": [],
   "source": [
    "# your code here\n",
    "\n"
   ]
  },
  {
   "cell_type": "markdown",
   "metadata": {},
   "source": [
    "<font size = \"3\">\n",
    "\n",
    "Write a function\n",
    "\n",
    "- With a single argument \"numeric_grade\"\n",
    "- Inside the function write an <br>\n",
    "if/else statement for grade $\\ge 55$.\n",
    "- If it's true, then the return value should be the string \"status = pass\"\n",
    "- If it's false, then the return value should be the string \"status = pass\""
   ]
  },
  {
   "cell_type": "code",
   "execution_count": null,
   "metadata": {},
   "outputs": [],
   "source": [
    "# your code here\n",
    "\n"
   ]
  },
  {
   "cell_type": "markdown",
   "metadata": {},
   "source": [
    "<font size = \"3\">\n",
    "\n",
    "Write a function with arguments <br>\n",
    " \"first_name\", \"last_name\", \"car_model\"\n",
    "\n",
    "The return value should be a string reading:\n",
    "\n",
    "\"Dear customer {first_name} {last_name}, <br>\n",
    "your car model {car_model} is ready\" "
   ]
  },
  {
   "cell_type": "code",
   "execution_count": null,
   "metadata": {},
   "outputs": [],
   "source": [
    "# your code here\n",
    "\n",
    "\n"
   ]
  },
  {
   "cell_type": "markdown",
   "metadata": {},
   "source": [
    "<font size = \"3\">\n",
    "\n",
    "Using the lambda keyword, define a function calculating\n",
    "\n",
    "$$V=P\\left(1+{\\frac {r}{n}}\\right)^{nt}$$\n",
    "\n",
    "for arguments $P$, $r$, $n$, and $t$"
   ]
  },
  {
   "cell_type": "code",
   "execution_count": null,
   "metadata": {},
   "outputs": [],
   "source": [
    "# your code here\n",
    "\n"
   ]
  },
  {
   "cell_type": "markdown",
   "metadata": {},
   "source": [
    "<font size = \"3\">\n",
    "\n",
    "Write a function called \"check_voter_eligibility\" which takes in a single integer \"age\" as an argument.\n",
    "\n",
    "This function should check whether age $\\ge$ 18, and return the corresponding Boolean value."
   ]
  },
  {
   "cell_type": "code",
   "execution_count": null,
   "metadata": {},
   "outputs": [],
   "source": [
    "# your code here\n",
    "\n"
   ]
  },
  {
   "cell_type": "markdown",
   "metadata": {},
   "source": [
    "<font size = \"3\">\n",
    "\n",
    "In the code cell below is a list containing the ages of 5 people.\n",
    "\n",
    "Write a for loop which checks each age for voter eligibility using the function you just wrote.\n",
    "\n",
    "At the end of the loop, you should have a list of length 5 where each element is either ``True`` or ``False``"
   ]
  },
  {
   "cell_type": "code",
   "execution_count": null,
   "metadata": {},
   "outputs": [],
   "source": [
    "list_ages = [18,29,15,32,6]\n",
    "\n",
    "# your code here\n"
   ]
  }
 ],
 "metadata": {
  "kernelspec": {
   "display_name": "base",
   "language": "python",
   "name": "python3"
  },
  "language_info": {
   "codemirror_mode": {
    "name": "ipython",
    "version": 3
   },
   "file_extension": ".py",
   "mimetype": "text/x-python",
   "name": "python",
   "nbconvert_exporter": "python",
   "pygments_lexer": "ipython3",
   "version": "3.13.5"
  },
  "orig_nbformat": 4,
  "vscode": {
   "interpreter": {
    "hash": "45fc1f684f6f416f40889115beff3ddf69879b64cf4bfee48cb72a61e9d15d1a"
   }
  }
 },
 "nbformat": 4,
 "nbformat_minor": 2
}
