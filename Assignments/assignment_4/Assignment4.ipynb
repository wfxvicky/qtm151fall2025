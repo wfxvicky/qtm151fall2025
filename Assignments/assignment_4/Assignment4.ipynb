{
 "cells": [
  {
   "cell_type": "markdown",
   "metadata": {},
   "source": [
    "# Assignment 4"
   ]
  },
  {
   "cell_type": "markdown",
   "metadata": {},
   "source": [
    "<font size = \"5\">\n",
    "Import the matplotlib and numpy packages"
   ]
  },
  {
   "cell_type": "code",
   "execution_count": null,
   "metadata": {},
   "outputs": [],
   "source": [
    "import numpy as np \n",
    "import matplotlib.pyplot as plt"
   ]
  },
  {
   "cell_type": "markdown",
   "metadata": {},
   "source": [
    "### a) For-loops and Conditional Statements  \n",
    "\n",
    "Using the lists of movie ratings and titles below, where each rating corresponds directly to the title in the same position, <br> create a new list of movies that are considered top picks (**those with ratings greater than or equal to 8**):   \n",
    "- Use a for loop to iterate through both lists below and store the titles and ratings of movies <br>considered top picks in two new lists:  \n",
    "  - `top_picks_titles`: The titles of movies considered top picks.  \n",
    "  - `top_picks_ratings`: The ratings of top pick movies.  \n",
    "- Print the results of both lists."
   ]
  },
  {
   "cell_type": "code",
   "execution_count": null,
   "metadata": {},
   "outputs": [],
   "source": [
    "# run this cell first\n",
    "movie_ratings = [6.8, 8.3, 8.5, 5.1, 8.0, 3.5, 7.8, 8.4, 7.8, 2.8, 8.8]\n",
    "movie_titles = [\"Barbie\", \"Oppenheimer\", \"Spider-Man: Across the Spider-Verse\", \n",
    "                \"Morbius\", \"Dune\", \"The Emoji Movie\", \n",
    "                \"Everything Everywhere All at Once\", \"Avengers: Endgame\", \n",
    "                \"The Batman\", \"Cats\", \"Pulp Fiction\"]"
   ]
  },
  {
   "cell_type": "code",
   "execution_count": null,
   "metadata": {},
   "outputs": [],
   "source": [
    "# Write your answer here\n"
   ]
  },
  {
   "cell_type": "markdown",
   "metadata": {},
   "source": [
    "### b) Follow-up to Part (a)  \n",
    "\n",
    "Using numpy, perform the following operations on the `top_picks_ratings` list:  \n",
    "\n",
    "- Count and print the total number of movies considered top picks using `np.size()`.  \n",
    "- Calculate and print the average ratings of the top pick movies using `np.mean()`.  \n",
    "- Determine and print the highest rating from the top pick movies using `np.max()`. \n",
    "\n",
    "**You should assign each computed value to a variable**\n",
    "\n",
    "Hint: Most numpy operations work with lists, not just arrays"
   ]
  },
  {
   "cell_type": "code",
   "execution_count": null,
   "metadata": {},
   "outputs": [],
   "source": [
    "# Write your answer here\n",
    "\n"
   ]
  },
  {
   "cell_type": "markdown",
   "metadata": {},
   "source": [
    "\n",
    "### c) For-loops + Plotting\n",
    "\n",
    "   - Create an array of x-values with 100 evenly spaced points between $0$ and $2\\pi$ <br>using `np.linspace()`. **Hint**: type ``help(np.linspace)`` in a separate cell to see how it is used\n",
    "\n",
    "   - Create a vector named ```vec_y1``` where each element is computed from the formula <br> $ y_k = \\sin(x_k)$. (Here $x_k$ is the $k$-th element of the array you created above, and $y_k$ is the $k$-th element of vec_y1)\n",
    "\n",
    "   - Create a vector ```vec_y2``` where each element is computed from the formula <br> $ y_k = \\cos(x_k)$.\n",
    "\n",
    "   - Create a list ```list_vectors``` with elements ```vec_y1``` and ```vec_y2```. (So a list with two components, both being numpy arrays)\n",
    "\n",
    "   - Create a for-loop that goes through each element of ```list_vectors``` and plots each <br>list of $y$ values on the vertical axis against $x$ on the horizontal axis.\n",
    "\n",
    "Note: The final output should be a 2-dimensional plot with the values from vec_y1 and vec_y2 on the vertical axis, and the $x$ values on the horizontal axis. **Remember to label the axes and add a title to the plot**."
   ]
  },
  {
   "cell_type": "code",
   "execution_count": null,
   "metadata": {},
   "outputs": [],
   "source": [
    "# Write your answer here\n",
    "\n"
   ]
  },
  {
   "cell_type": "markdown",
   "metadata": {},
   "source": [
    "### d) Learn How to Use zip()\n",
    "\n",
    "- Below, write a chunk of code that prints out the average score for each player over the 3 rounds. <br> The names and scores are given in the lists below.  \n",
    "- The program should print the players's name and their average score, formatted like this: \n",
    "\n",
    "    ```python\n",
    "    John's average score: ___ \n",
    "    Bob's average score: ___ \n",
    "    Jane's average score: ___\n",
    "    Dave's average score: ___\n",
    "    Jenny's average score: ___\n",
    "    ```\n",
    "\n",
    "- Use the ``zip`` function in the heading of the loop. **You should use all four lists in the heading**\n",
    "\n",
    "Hints/Tips:\n",
    "- You can learn more about zip() here: [Python zip() Function](https://www.geeksforgeeks.org/zip-in-python/)\n",
    "- You can print a string followed by a float using print as follows:\n",
    "```python\n",
    "    print(some_string, some_float)\n",
    "```\n",
    "- ...or you can convert the float to a string using ``str``"
   ]
  },
  {
   "cell_type": "code",
   "execution_count": null,
   "metadata": {},
   "outputs": [],
   "source": [
    "# run this cell first\n",
    "player_names = [\"John\", \"Bob\", \"Jane\", \"Dave\", \"Jenny\"]\n",
    "round1 = [120, 200, 150, 300, 180]\n",
    "round2 = [100, 210, 160, 280, 190]\n",
    "round3 = [130, 190, 170, 310, 175]"
   ]
  },
  {
   "cell_type": "code",
   "execution_count": null,
   "metadata": {},
   "outputs": [],
   "source": [
    "# Write your answer here\n"
   ]
  },
  {
   "cell_type": "markdown",
   "metadata": {},
   "source": [
    "### e) Simulating and Visualizing \n",
    "- We will generate and plot multiple histograms of sample means for the **log-normal** distribution.\n",
    "\n",
    "- The log-normal distribution arises by raising Euler's number ($\\mathrm{e}$) to the power of a number drawn from a normal distribution. This is the *underlying* normal distribution.\n",
    "\n",
    "- If $\\mu$ is the mean of the underlying normal distribution, and $\\sigma$ is the standard deviation of the underlying normal distribution, then:\n",
    "$$ \\textrm{mean of log-normal distribution } = \\mathrm{e}^{\\mu + \\frac{\\sigma^2}{2}} = \\exp\\left(\\mu + \\frac{\\sigma^2}{2} \\right)$$\n",
    "\n",
    "- For this question, we will use $\\mu = 1$ and $\\sigma = 0.5$\n",
    "\n",
    "- Generate and plot multiple histograms showing the frequency of sample means computed with different sample sizes:\n",
    "\n",
    "    - Create 3 histograms: one with sample size 10, one with sample size 100, and one <br>with sample size 1000.\n",
    "    - Make sure that the number of simulations is the same for all three (keep the number <br> of simulations set to 2000)\n",
    "\n",
    "- Using your histograms from the question above, how does the sample size affect the <br> distribution of the sample means? Answer this question in a markdown cell or as a comment in a Python cell.\n",
    "\n",
    "- **Hint**: you will want to use the function ``np.random.lognormal``"
   ]
  },
  {
   "cell_type": "markdown",
   "metadata": {},
   "source": [
    "### Write your answers in the cells below"
   ]
  },
  {
   "cell_type": "code",
   "execution_count": null,
   "metadata": {},
   "outputs": [],
   "source": [
    "# Sample Size 10\n",
    "\n",
    "np.random.seed(1234) # set the seed for reproducibility\n",
    "num_simulations = 2000\n",
    "\n",
    "\n",
    "# complete the code\n",
    "\n"
   ]
  },
  {
   "cell_type": "code",
   "execution_count": null,
   "metadata": {},
   "outputs": [],
   "source": [
    "# Sample Size 100\n",
    "\n",
    "np.random.seed(1234) # set the seed for reproducibility\n",
    "num_simulations = 2000\n",
    "\n",
    "\n",
    "# complete the code"
   ]
  },
  {
   "cell_type": "code",
   "execution_count": null,
   "metadata": {},
   "outputs": [],
   "source": [
    "# Sample Size 1000\n",
    "\n",
    "np.random.seed(1234) # set the seed for reproducibility\n",
    "num_simulations = 2000\n",
    "\n",
    "\n",
    "# complete the code"
   ]
  },
  {
   "cell_type": "code",
   "execution_count": null,
   "metadata": {},
   "outputs": [],
   "source": [
    "# How does the sample size affect the distribution of the sample means?\n",
    "\n",
    "# Write your answer as a comment below, or create a markdown cell.\n",
    "\n",
    "\n",
    "\n"
   ]
  }
 ],
 "metadata": {
  "kernelspec": {
   "display_name": "base",
   "language": "python",
   "name": "python3"
  },
  "language_info": {
   "codemirror_mode": {
    "name": "ipython",
    "version": 3
   },
   "file_extension": ".py",
   "mimetype": "text/x-python",
   "name": "python",
   "nbconvert_exporter": "python",
   "pygments_lexer": "ipython3",
   "version": "3.13.5"
  }
 },
 "nbformat": 4,
 "nbformat_minor": 2
}
